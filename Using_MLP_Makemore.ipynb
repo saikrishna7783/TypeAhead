{
  "nbformat": 4,
  "nbformat_minor": 0,
  "metadata": {
    "colab": {
      "provenance": [],
      "authorship_tag": "ABX9TyPftXDruZAA41+KJ0ZtPbFi",
      "include_colab_link": true
    },
    "kernelspec": {
      "name": "python3",
      "display_name": "Python 3"
    },
    "language_info": {
      "name": "python"
    }
  },
  "cells": [
    {
      "cell_type": "markdown",
      "metadata": {
        "id": "view-in-github",
        "colab_type": "text"
      },
      "source": [
        "<a href=\"https://colab.research.google.com/github/Nithin-47/Neural_Net/blob/main/Using_MLP_Makemore.ipynb\" target=\"_parent\"><img src=\"https://colab.research.google.com/assets/colab-badge.svg\" alt=\"Open In Colab\"/></a>"
      ]
    },
    {
      "cell_type": "code",
      "execution_count": null,
      "metadata": {
        "id": "gB0HHcreLCzc"
      },
      "outputs": [],
      "source": [
        "import torch\n",
        "import torch.nn.functional as F\n",
        "import matplotlib.pyplot as plt\n",
        "%matplotlib inline\n"
      ]
    },
    {
      "cell_type": "code",
      "source": [
        "words = open('/content/names.txt','r').read().splitlines()\n"
      ],
      "metadata": {
        "id": "DUaOAUplLmt4"
      },
      "execution_count": null,
      "outputs": []
    },
    {
      "cell_type": "code",
      "source": [
        "# Building Vocabulary of Characters\n",
        "\n",
        "chars = sorted(list(set(''.join(words))))\n",
        "stoi = {s:i+1 for i,s in enumerate(chars)}\n",
        "stoi['.'] = 0\n",
        "itos = {i:s for s,i in stoi.items()}\n"
      ],
      "metadata": {
        "id": "w29T6WyiLzjR"
      },
      "execution_count": null,
      "outputs": []
    },
    {
      "cell_type": "code",
      "source": [
        "def build_dataset(words):\n",
        "\n",
        "  block = 3\n",
        "\n",
        "  X, Y = [], []\n",
        "  for w in words:\n",
        "    context = [0] * block\n",
        "    for ch in w + '.':\n",
        "      ix = stoi[ch]\n",
        "      X.append(context)\n",
        "      Y.append(ix)\n",
        "      context = context[1:] + [ix]\n",
        "\n",
        "\n",
        "  X = torch.tensor(X)\n",
        "  Y = torch.tensor(Y)\n",
        "\n",
        "  return X, Y"
      ],
      "metadata": {
        "id": "vzqUBIlHbKJS"
      },
      "execution_count": null,
      "outputs": []
    },
    {
      "cell_type": "code",
      "source": [
        "# Splitting the dataset\n",
        "\n",
        "import random\n",
        "random.seed(42)\n",
        "random.shuffle(words)\n",
        "n1 = int(0.8*len(words))\n",
        "n2 = int(0.9*len(words))\n",
        "\n",
        "Xtr, Ytr = build_dataset(words[:n1])\n",
        "Xdev, Ydev = build_dataset(words[n1:n2])\n",
        "Xte, Yte = build_dataset(words[n2:])\n",
        "\n"
      ],
      "metadata": {
        "id": "no0Gwrky0D5J"
      },
      "execution_count": null,
      "outputs": []
    },
    {
      "cell_type": "code",
      "source": [
        "# Lookup Table for the characters\n",
        "\n",
        "C = torch.randn((27,10),generator = g,requires_grad=True)\n"
      ],
      "metadata": {
        "id": "aBxj92u-d-q0"
      },
      "execution_count": null,
      "outputs": []
    },
    {
      "cell_type": "code",
      "source": [
        "# Hidden Layer\n",
        "\n",
        "W1 = torch.randn((30,200),generator=g,requires_grad=True)\n",
        "b1 = torch.randn(200,generator=g,requires_grad=True)"
      ],
      "metadata": {
        "id": "e7Xk7Ihghabd"
      },
      "execution_count": null,
      "outputs": []
    },
    {
      "cell_type": "code",
      "source": [
        "# torch.cat(emb[:,0,:],emb[:,1,:],emb[:,2,:],dim=1)\n",
        "\n",
        "# torch.cat(torch.unbind(emb,1),dim=1)\n",
        "\n",
        "# emb.view(32,6)\n",
        "\n",
        "h = torch.tanh(emb.view(-1,6) @ W1 + b1)\n"
      ],
      "metadata": {
        "id": "TsED5Y8ZjPp2"
      },
      "execution_count": null,
      "outputs": []
    },
    {
      "cell_type": "code",
      "source": [
        "# Output Layer\n",
        "\n",
        "W2 = torch.randn((200,27),generator=g,requires_grad=True)\n",
        "b2 = torch.randn(27,generator=g,requires_grad=True)"
      ],
      "metadata": {
        "id": "pjkE_GCUl9kw"
      },
      "execution_count": null,
      "outputs": []
    },
    {
      "cell_type": "code",
      "source": [
        "logits = h @ W2 + b2"
      ],
      "metadata": {
        "id": "r7Vd7NgumIBW"
      },
      "execution_count": null,
      "outputs": []
    },
    {
      "cell_type": "code",
      "source": [
        "# counts = logits.exp()\n",
        "# probs = counts/counts.sum(1,keepdim=True)\n",
        "\n",
        "g = torch.Generator().manual_seed(2147483647)"
      ],
      "metadata": {
        "id": "xd4QU8mNmO8r"
      },
      "execution_count": null,
      "outputs": []
    },
    {
      "cell_type": "code",
      "source": [
        "# loss = -probs[torch.arange(32),Y].log().mean()\n",
        "\n",
        "parameters = [C,W1,b1,W2,b2]\n",
        "sum(p.nelement() for p in parameters)\n",
        "\n",
        "# for p in parameters():\n",
        "#   p.requires_grad = True"
      ],
      "metadata": {
        "colab": {
          "base_uri": "https://localhost:8080/"
        },
        "id": "HzCMaXsGmeNu",
        "outputId": "e1d3e879-4688-41ae-db49-2ae10199db59"
      },
      "execution_count": null,
      "outputs": [
        {
          "output_type": "execute_result",
          "data": {
            "text/plain": [
              "11897"
            ]
          },
          "metadata": {},
          "execution_count": 136
        }
      ]
    },
    {
      "cell_type": "code",
      "source": [
        "# For determining Ideal Learning Rate\n",
        "\n",
        "lre = torch.linspace(-3,0,1000)\n",
        "lrs = 10**lre\n",
        "\n",
        "lri = []\n",
        "lossi = []\n",
        "stepi = []\n"
      ],
      "metadata": {
        "id": "9m53nrYGw1dr"
      },
      "execution_count": null,
      "outputs": []
    },
    {
      "cell_type": "code",
      "source": [
        "# Forward Pass\n",
        "\n",
        "\n",
        "for i in range(50000):\n",
        "\n",
        "    # Constructing mini Batches\n",
        "  ix = torch.randint(0,Xtr.shape[0],(32,))\n",
        "\n",
        "\n",
        "  emb = C[Xtr[ix]]\n",
        "  h = torch.tanh(emb.view(-1,30) @ W1 + b1)\n",
        "  logits = h @ W2 + b2\n",
        "  loss = F.cross_entropy(logits,Ytr[ix])\n",
        "\n",
        "  # Backward Pass\n",
        "  for p in parameters:\n",
        "    p.grad = None\n",
        "  loss.backward()\n",
        "\n",
        "  # Update\n",
        "  lr = 0.01\n",
        "  for p in parameters:\n",
        "    p.data += -lr * p.grad\n",
        "\n",
        "  # Track stats\n",
        "  # lri.append(lre[i])\n",
        "  stepi.append(i)\n",
        "  lossi.append(loss.log10().item())\n",
        "\n",
        "\n",
        "# print(loss.item())\n"
      ],
      "metadata": {
        "id": "Rl6rQlXOnCIU"
      },
      "execution_count": null,
      "outputs": []
    },
    {
      "cell_type": "code",
      "source": [
        "plt.plot(stepi,lossi)"
      ],
      "metadata": {
        "colab": {
          "base_uri": "https://localhost:8080/",
          "height": 447
        },
        "id": "LUQ26kshxfm1",
        "outputId": "918f3ee0-a523-47a7-e9cf-391c7bf3a21e"
      },
      "execution_count": null,
      "outputs": [
        {
          "output_type": "execute_result",
          "data": {
            "text/plain": [
              "[<matplotlib.lines.Line2D at 0x7f8435dddf90>]"
            ]
          },
          "metadata": {},
          "execution_count": 147
        },
        {
          "output_type": "display_data",
          "data": {
            "text/plain": [
              "<Figure size 640x480 with 1 Axes>"
            ],
            "image/png": "[encoded data removed]"
          },
          "metadata": {}
        }
      ]
    },
    {
      "cell_type": "code",
      "source": [
        "emb = C[Xtr]\n",
        "h = torch.tanh(emb.view(-1,30) @ W1 + b1)\n",
        "logits = h @ W2 + b2\n",
        "loss = F.cross_entropy(logits,Ytr)\n",
        "loss"
      ],
      "metadata": {
        "colab": {
          "base_uri": "https://localhost:8080/"
        },
        "id": "8XrvmOWrwACf",
        "outputId": "113c2f85-7269-4eee-ef43-f6bd387190b6"
      },
      "execution_count": null,
      "outputs": [
        {
          "output_type": "execute_result",
          "data": {
            "text/plain": [
              "tensor(2.1571, grad_fn=<NllLossBackward0>)"
            ]
          },
          "metadata": {},
          "execution_count": 148
        }
      ]
    },
    {
      "cell_type": "code",
      "source": [
        "emb = C[Xdev]\n",
        "h = torch.tanh(emb.view(-1,30) @ W1 + b1)\n",
        "logits = h @ W2 + b2\n",
        "loss = F.cross_entropy(logits,Ydev)\n",
        "loss"
      ],
      "metadata": {
        "colab": {
          "base_uri": "https://localhost:8080/"
        },
        "id": "yy6o3yMi4g1k",
        "outputId": "96077169-c017-48ce-f66d-869aa39a2861"
      },
      "execution_count": null,
      "outputs": [
        {
          "output_type": "execute_result",
          "data": {
            "text/plain": [
              "tensor(2.1847, grad_fn=<NllLossBackward0>)"
            ]
          },
          "metadata": {},
          "execution_count": 149
        }
      ]
    },
    {
      "cell_type": "code",
      "source": [
        "# only 2x2 visualization of set C values\n",
        "\n",
        "plt.figure(figsize=(8,8))\n",
        "plt.scatter(C[:,0].data,C[:,1].data,s=200)\n",
        "for i in range(C.shape[0]):\n",
        "    plt.text(C[i,0].item(),C[i,1].item(),itos[i],ha=\"center\",va=\"center\",color=\"white\")\n",
        "plt.grid(\"minor\")"
      ],
      "metadata": {
        "colab": {
          "base_uri": "https://localhost:8080/",
          "height": 676
        },
        "id": "t514nAPz4tNi",
        "outputId": "2fc63e20-d095-460f-bc6c-4d16829ea95c"
      },
      "execution_count": null,
      "outputs": [
        {
          "output_type": "display_data",
          "data": {
            "text/plain": [
              "<Figure size 800x800 with 1 Axes>"
            ],
            "image/png": "[encoded data removed]"
          },
          "metadata": {}
        }
      ]
    },
    {
      "cell_type": "code",
      "source": [
        "# Sampling\n",
        "\n",
        "gi = torch.Generator().manual_seed(2147483647+10)\n",
        "block = 3\n",
        "for _ in range(20):\n",
        "  out = []\n",
        "  context = [0] * block\n",
        "\n",
        "  while True:\n",
        "    emb = C[torch.tensor([context])]\n",
        "    h = torch.tanh(emb.view(1,-1) @ W1 + b1)\n",
        "    logits = h @ W2 + b2\n",
        "    probs = F.softmax(logits,dim=1)\n",
        "    ix = torch.multinomial(probs,num_samples=1,generator=gi).item()\n",
        "    context = context[1:] + [ix]\n",
        "    out.append(ix)\n",
        "    if ix == 0:\n",
        "      break\n",
        "\n",
        "  print(''.join((itos[i]) for i in out))"
      ],
      "metadata": {
        "colab": {
          "base_uri": "https://localhost:8080/"
        },
        "id": "pDHJNJRy7_RU",
        "outputId": "e38eb399-e34d-462b-9e31-a7a65cb76b44"
      },
      "execution_count": null,
      "outputs": [
        {
          "output_type": "stream",
          "name": "stdout",
          "text": [
            "mora.\n",
            "mayah.\n",
            "seel.\n",
            "ndheyah.\n",
            "rethan.\n",
            "ejz.\n",
            "leg.\n",
            "adeerdoelii.\n",
            "shi.\n",
            "jelle.\n",
            "elisso.\n",
            "aarielle.\n",
            "malaia.\n",
            "nyshibergiai.\n",
            "jest.\n",
            "jair.\n",
            "jelipunthudanu.\n",
            "zence.\n",
            "ryyahulyeh.\n",
            "yuma.\n"
          ]
        }
      ]
    }
  ]
}