{
  "nbformat": 4,
  "nbformat_minor": 0,
  "metadata": {
    "colab": {
      "provenance": [],
      "authorship_tag": "ABX9TyNHPB0m/7vRkPF4oEIh2G4A",
      "include_colab_link": true
    },
    "kernelspec": {
      "name": "python3",
      "display_name": "Python 3"
    },
    "language_info": {
      "name": "python"
    }
  },
  "cells": [
    {
      "cell_type": "markdown",
      "metadata": {
        "id": "view-in-github",
        "colab_type": "text"
      },
      "source": [
        "<a href=\"https://colab.research.google.com/github/Nithin-47/Neural_Net/blob/main/Micrograd.ipynb\" target=\"_parent\"><img src=\"https://colab.research.google.com/assets/colab-badge.svg\" alt=\"Open In Colab\"/></a>"
      ]
    },
    {
      "cell_type": "code",
      "source": [
        "import math\n",
        "import numpy as np\n",
        "import matplotlib.pyplot as plt\n",
        "%matplotlib inline"
      ],
      "metadata": {
        "id": "xVnSnAIt54lx"
      },
      "execution_count": 42,
      "outputs": []
    },
    {
      "cell_type": "code",
      "execution_count": 52,
      "metadata": {
        "id": "OEMcp4vWc2iB"
      },
      "outputs": [],
      "source": [
        "class Value:\n",
        "\n",
        "  def __init__(self, data, _children=(), _op='', label=''):\n",
        "    self.data = data\n",
        "    self.grad = 0.0\n",
        "    self._backward = lambda: None\n",
        "    self._prev = set(_children)\n",
        "    self._op = _op\n",
        "    self.label = label\n",
        "\n",
        "  def __repr__(self):\n",
        "    return f\"Value(data={self.data})\"\n",
        "\n",
        "  def __add__(self,other):\n",
        "    other = other if isinstance(other,Value) else Value(other)\n",
        "    out = Value(self.data + other.data,(self,other), '+')\n",
        "\n",
        "    def _backward():\n",
        "      self.grad += 1.0*out.grad\n",
        "      other.grad += 1.0*out.grad\n",
        "    out._backward = _backward\n",
        "\n",
        "    return out\n",
        "\n",
        "  def __radd__(self,other):\n",
        "    return self+other\n",
        "\n",
        "  def __neg__(self,other):\n",
        "    return self*-1\n",
        "\n",
        "  def __sub__(self,other):\n",
        "    return self + (-other)\n",
        "\n",
        "  def __mul__(self,other):\n",
        "    other = other if isinstance(other,Value) else Value(other)\n",
        "    out = Value(self.data * other.data,(self,other), '*')\n",
        "\n",
        "    def _backward():\n",
        "      self.grad += other.data*out.grad\n",
        "      other.grad += self.data*out.grad\n",
        "    out._backward = _backward\n",
        "\n",
        "    return out\n",
        "\n",
        "\n",
        "  def __rmul__(self,other):\n",
        "    return self*other\n",
        "\n",
        "\n",
        "\n",
        "  def exp(self):\n",
        "    x = self.data\n",
        "    out = Value(math.exp(x),(self,),'exp')\n",
        "\n",
        "    def _backward():\n",
        "      self.grad += out.data*out.grad\n",
        "    out._backward = _backward\n",
        "\n",
        "    return out\n",
        "\n",
        "  def __pow__(self,other):\n",
        "    assert isinstance(other,(int,float)),\"only support int/float powers\"\n",
        "    out = Value(self.data**other,(self,),f'**{other}')\n",
        "\n",
        "    def _backward():\n",
        "      self.grad += other*(self.data**(other-1))*out.grad\n",
        "    out._backward = _backward\n",
        "\n",
        "    return out\n",
        "\n",
        "\n",
        "  def __truediv__(self,other):\n",
        "    return self*other**-1\n",
        "\n",
        "  def tanh(self):\n",
        "    x = self.data\n",
        "    t = (math.exp(2*x)-1)/(math.exp(2*x)+1)\n",
        "    out = Value(t,(self,),'tanh')\n",
        "\n",
        "    def _backward():\n",
        "      self.grad += (1 - t**2)*out.grad\n",
        "    out._backward = _backward\n",
        "\n",
        "\n",
        "    return out\n",
        "\n",
        "  def backward(self):\n",
        "\n",
        "    topo = []\n",
        "    visited = set()\n",
        "\n",
        "    def build_topo(v):\n",
        "      if v not in visited:\n",
        "        visited.add(v)\n",
        "        for child in v._prev:\n",
        "          build_topo(child)\n",
        "        topo.append(v)\n",
        "\n",
        "    build_topo(self)\n",
        "\n",
        "    self.grad = 1.0\n",
        "    for node in reversed(topo):\n",
        "      node._backward()\n"
      ]
    },
    {
      "cell_type": "code",
      "source": [
        "# For Ease of Visualizing\n",
        "\n",
        "from graphviz import Digraph\n",
        "\n",
        "def trace(root):\n",
        "  # builds a set of all nodes and edges in a graph\n",
        "  nodes, edges = set(), set()\n",
        "\n",
        "  def build(v):\n",
        "    if v not in nodes:\n",
        "      nodes.add(v)\n",
        "      for child in v._prev:\n",
        "        edges.add((child,v))\n",
        "        build(child)\n",
        "\n",
        "  build(root)\n",
        "\n",
        "  return nodes, edges\n",
        "\n",
        "\n",
        "\n",
        "def draw_dot(root):\n",
        "\n",
        "  dot = Digraph(format=\"svg\", graph_attr={\"rankdir\":\"LR\"}) #LR = left to Right\n",
        "\n",
        "  nodes, edges = trace(root)\n",
        "  for n in nodes:\n",
        "    uid = str(id(n))\n",
        "    # For any value in the graph, create a rectangular ('record') node for it\n",
        "\n",
        "    dot.node(name = uid, label = \"{ %s | data %.4f | grad %.4f }\"% (n.label, n.data, n.grad), shape='record')\n",
        "\n",
        "    if n._op:\n",
        "      # if this value is a result of some op, create an op node for it\n",
        "      dot.node(name= uid + n._op, label = n._op)\n",
        "      # and connect this node to it\n",
        "      dot.edge(uid + n._op, uid)\n",
        "\n",
        "  for n1,n2 in edges:\n",
        "    # Connect n1 to op node of n2\n",
        "      dot.edge(str(id(n1)),str(id(n2)) + n2._op)\n",
        "\n",
        "\n",
        "  return dot\n",
        "\n"
      ],
      "metadata": {
        "id": "-OntOYjtkbrO"
      },
      "execution_count": 44,
      "outputs": []
    },
    {
      "cell_type": "code",
      "source": [
        "#inputs to the neuron\n",
        "\n",
        "x1 = Value(2.0,label='x1')\n",
        "x2 = Value(0.0,label='x2')\n",
        "\n",
        "#weights\n",
        "\n",
        "w1 = Value(-3.0,label='w1')\n",
        "w2 = Value(1.0,label='w2')\n",
        "\n",
        "#Bias\n",
        "\n",
        "b = Value(6.8813735870195432,label='b')\n",
        "x1w1 = x1*w1; x1w1.label='x1*w1'\n",
        "x2w2 = x2*w2; x2w2.label='x2*w2'\n",
        "\n",
        "x1w1x2w2 = x1*w1 + x2*w2; x1w1x2w2.label = 'x1*w1 + x2*w2'\n",
        "n = x1w1x2w2 + b; n.label = 'n'\n",
        "\n",
        "o = n.tanh(); o.label='o'\n",
        "o.backward()\n",
        "draw_dot(o)"
      ],
      "metadata": {
        "colab": {
          "base_uri": "https://localhost:8080/",
          "height": 321
        },
        "id": "F_BSheGgqIRF",
        "outputId": "a1b0f45a-2c5c-446c-d79b-438984e5d9b3"
      },
      "execution_count": 50,
      "outputs": [
        {
          "output_type": "execute_result",
          "data": {
            "image/svg+xml": "<?xml version=\"1.0\" encoding=\"UTF-8\" standalone=\"no\"?>\n<!DOCTYPE svg PUBLIC \"-//W3C//DTD SVG 1.1//EN\"\n \"http://www.w3.org/Graphics/SVG/1.1/DTD/svg11.dtd\">\n<!-- Generated by graphviz version 2.43.0 (0)\n -->\n<!-- Title: %3 Pages: 1 -->\n<svg width=\"1542pt\" height=\"210pt\"\n viewBox=\"0.00 0.00 1542.00 210.00\" xmlns=\"http://www.w3.org/2000/svg\" xmlns:xlink=\"http://www.w3.org/1999/xlink\">\n<g id=\"graph0\" class=\"graph\" transform=\"scale(1 1) rotate(0) translate(4 206)\">\n<title>%3</title>\n<polygon fill=\"white\" stroke=\"transparent\" points=\"-4,4 -4,-206 1538,-206 1538,4 -4,4\"/>\n<!-- 134799104091152 -->\n<g id=\"node1\" class=\"node\">\n<title>134799104091152</title>\n<polygon fill=\"none\" stroke=\"black\" points=\"0,-165.5 0,-201.5 200,-201.5 200,-165.5 0,-165.5\"/>\n<text text-anchor=\"middle\" x=\"16.5\" y=\"-179.8\" font-family=\"Times,serif\" font-size=\"14.00\">w1</text>\n<polyline fill=\"none\" stroke=\"black\" points=\"33,-165.5 33,-201.5 \"/>\n<text text-anchor=\"middle\" x=\"75.5\" y=\"-179.8\" font-family=\"Times,serif\" font-size=\"14.00\">data &#45;3.0000</text>\n<polyline fill=\"none\" stroke=\"black\" points=\"118,-165.5 118,-201.5 \"/>\n<text text-anchor=\"middle\" x=\"159\" y=\"-179.8\" font-family=\"Times,serif\" font-size=\"14.00\">grad 1.0000</text>\n</g>\n<!-- 134799102398512* -->\n<g id=\"node3\" class=\"node\">\n<title>134799102398512*</title>\n<ellipse fill=\"none\" stroke=\"black\" cx=\"263\" cy=\"-128.5\" rx=\"27\" ry=\"18\"/>\n<text text-anchor=\"middle\" x=\"263\" y=\"-124.8\" font-family=\"Times,serif\" font-size=\"14.00\">*</text>\n</g>\n<!-- 134799104091152&#45;&gt;134799102398512* -->\n<g id=\"edge8\" class=\"edge\">\n<title>134799104091152&#45;&gt;134799102398512*</title>\n<path fill=\"none\" stroke=\"black\" d=\"M172.53,-165.44C181.84,-162.67 191.2,-159.67 200,-156.5 210.53,-152.71 221.75,-147.9 231.72,-143.33\"/>\n<polygon fill=\"black\" stroke=\"black\" points=\"233.25,-146.48 240.82,-139.07 230.28,-140.14 233.25,-146.48\"/>\n</g>\n<!-- 134799102398512 -->\n<g id=\"node2\" class=\"node\">\n<title>134799102398512</title>\n<polygon fill=\"none\" stroke=\"black\" points=\"326,-110.5 326,-146.5 513,-146.5 513,-110.5 326,-110.5\"/>\n<text text-anchor=\"middle\" x=\"336\" y=\"-124.8\" font-family=\"Times,serif\" font-size=\"14.00\"> </text>\n<polyline fill=\"none\" stroke=\"black\" points=\"346,-110.5 346,-146.5 \"/>\n<text text-anchor=\"middle\" x=\"388.5\" y=\"-124.8\" font-family=\"Times,serif\" font-size=\"14.00\">data &#45;6.0000</text>\n<polyline fill=\"none\" stroke=\"black\" points=\"431,-110.5 431,-146.5 \"/>\n<text text-anchor=\"middle\" x=\"472\" y=\"-124.8\" font-family=\"Times,serif\" font-size=\"14.00\">grad 0.5000</text>\n</g>\n<!-- 134799102932256+ -->\n<g id=\"node14\" class=\"node\">\n<title>134799102932256+</title>\n<ellipse fill=\"none\" stroke=\"black\" cx=\"576\" cy=\"-100.5\" rx=\"27\" ry=\"18\"/>\n<text text-anchor=\"middle\" x=\"576\" y=\"-96.8\" font-family=\"Times,serif\" font-size=\"14.00\">+</text>\n</g>\n<!-- 134799102398512&#45;&gt;134799102932256+ -->\n<g id=\"edge7\" class=\"edge\">\n<title>134799102398512&#45;&gt;134799102932256+</title>\n<path fill=\"none\" stroke=\"black\" d=\"M513.05,-111.73C522.54,-110.01 531.71,-108.35 539.95,-106.85\"/>\n<polygon fill=\"black\" stroke=\"black\" points=\"540.64,-110.28 549.85,-105.06 539.39,-103.4 540.64,-110.28\"/>\n</g>\n<!-- 134799102398512*&#45;&gt;134799102398512 -->\n<g id=\"edge1\" class=\"edge\">\n<title>134799102398512*&#45;&gt;134799102398512</title>\n<path fill=\"none\" stroke=\"black\" d=\"M290.21,-128.5C297.73,-128.5 306.43,-128.5 315.67,-128.5\"/>\n<polygon fill=\"black\" stroke=\"black\" points=\"315.89,-132 325.89,-128.5 315.89,-125 315.89,-132\"/>\n</g>\n<!-- 134799102405184 -->\n<g id=\"node4\" class=\"node\">\n<title>134799102405184</title>\n<polygon fill=\"none\" stroke=\"black\" points=\"2.5,-55.5 2.5,-91.5 197.5,-91.5 197.5,-55.5 2.5,-55.5\"/>\n<text text-anchor=\"middle\" x=\"19\" y=\"-69.8\" font-family=\"Times,serif\" font-size=\"14.00\">w2</text>\n<polyline fill=\"none\" stroke=\"black\" points=\"35.5,-55.5 35.5,-91.5 \"/>\n<text text-anchor=\"middle\" x=\"75.5\" y=\"-69.8\" font-family=\"Times,serif\" font-size=\"14.00\">data 1.0000</text>\n<polyline fill=\"none\" stroke=\"black\" points=\"115.5,-55.5 115.5,-91.5 \"/>\n<text text-anchor=\"middle\" x=\"156.5\" y=\"-69.8\" font-family=\"Times,serif\" font-size=\"14.00\">grad 0.0000</text>\n</g>\n<!-- 134799102395056* -->\n<g id=\"node8\" class=\"node\">\n<title>134799102395056*</title>\n<ellipse fill=\"none\" stroke=\"black\" cx=\"263\" cy=\"-73.5\" rx=\"27\" ry=\"18\"/>\n<text text-anchor=\"middle\" x=\"263\" y=\"-69.8\" font-family=\"Times,serif\" font-size=\"14.00\">*</text>\n</g>\n<!-- 134799102405184&#45;&gt;134799102395056* -->\n<g id=\"edge12\" class=\"edge\">\n<title>134799102405184&#45;&gt;134799102395056*</title>\n<path fill=\"none\" stroke=\"black\" d=\"M197.91,-73.5C207.65,-73.5 217.05,-73.5 225.52,-73.5\"/>\n<polygon fill=\"black\" stroke=\"black\" points=\"225.7,-77 235.7,-73.5 225.7,-70 225.7,-77\"/>\n</g>\n<!-- 134799102407248 -->\n<g id=\"node5\" class=\"node\">\n<title>134799102407248</title>\n<polygon fill=\"none\" stroke=\"black\" points=\"2,-110.5 2,-146.5 198,-146.5 198,-110.5 2,-110.5\"/>\n<text text-anchor=\"middle\" x=\"17\" y=\"-124.8\" font-family=\"Times,serif\" font-size=\"14.00\">x1</text>\n<polyline fill=\"none\" stroke=\"black\" points=\"32,-110.5 32,-146.5 \"/>\n<text text-anchor=\"middle\" x=\"72\" y=\"-124.8\" font-family=\"Times,serif\" font-size=\"14.00\">data 2.0000</text>\n<polyline fill=\"none\" stroke=\"black\" points=\"112,-110.5 112,-146.5 \"/>\n<text text-anchor=\"middle\" x=\"155\" y=\"-124.8\" font-family=\"Times,serif\" font-size=\"14.00\">grad &#45;1.5000</text>\n</g>\n<!-- 134799102407248&#45;&gt;134799102398512* -->\n<g id=\"edge11\" class=\"edge\">\n<title>134799102407248&#45;&gt;134799102398512*</title>\n<path fill=\"none\" stroke=\"black\" d=\"M198.37,-128.5C208.05,-128.5 217.4,-128.5 225.8,-128.5\"/>\n<polygon fill=\"black\" stroke=\"black\" points=\"225.91,-132 235.91,-128.5 225.91,-125 225.91,-132\"/>\n</g>\n<!-- 134799102395440 -->\n<g id=\"node6\" class=\"node\">\n<title>134799102395440</title>\n<polygon fill=\"none\" stroke=\"black\" points=\"683,-27.5 683,-63.5 868,-63.5 868,-27.5 683,-27.5\"/>\n<text text-anchor=\"middle\" x=\"694.5\" y=\"-41.8\" font-family=\"Times,serif\" font-size=\"14.00\">b</text>\n<polyline fill=\"none\" stroke=\"black\" points=\"706,-27.5 706,-63.5 \"/>\n<text text-anchor=\"middle\" x=\"746\" y=\"-41.8\" font-family=\"Times,serif\" font-size=\"14.00\">data 6.8814</text>\n<polyline fill=\"none\" stroke=\"black\" points=\"786,-27.5 786,-63.5 \"/>\n<text text-anchor=\"middle\" x=\"827\" y=\"-41.8\" font-family=\"Times,serif\" font-size=\"14.00\">grad 0.5000</text>\n</g>\n<!-- 134799102928080+ -->\n<g id=\"node10\" class=\"node\">\n<title>134799102928080+</title>\n<ellipse fill=\"none\" stroke=\"black\" cx=\"975\" cy=\"-72.5\" rx=\"27\" ry=\"18\"/>\n<text text-anchor=\"middle\" x=\"975\" y=\"-68.8\" font-family=\"Times,serif\" font-size=\"14.00\">+</text>\n</g>\n<!-- 134799102395440&#45;&gt;134799102928080+ -->\n<g id=\"edge9\" class=\"edge\">\n<title>134799102395440&#45;&gt;134799102928080+</title>\n<path fill=\"none\" stroke=\"black\" d=\"M868.02,-58.01C893,-61.43 918.59,-64.93 938.37,-67.63\"/>\n<polygon fill=\"black\" stroke=\"black\" points=\"938.05,-71.12 948.43,-69.01 939,-64.18 938.05,-71.12\"/>\n</g>\n<!-- 134799102395056 -->\n<g id=\"node7\" class=\"node\">\n<title>134799102395056</title>\n<polygon fill=\"none\" stroke=\"black\" points=\"328.5,-55.5 328.5,-91.5 510.5,-91.5 510.5,-55.5 328.5,-55.5\"/>\n<text text-anchor=\"middle\" x=\"338.5\" y=\"-69.8\" font-family=\"Times,serif\" font-size=\"14.00\"> </text>\n<polyline fill=\"none\" stroke=\"black\" points=\"348.5,-55.5 348.5,-91.5 \"/>\n<text text-anchor=\"middle\" x=\"388.5\" y=\"-69.8\" font-family=\"Times,serif\" font-size=\"14.00\">data 0.0000</text>\n<polyline fill=\"none\" stroke=\"black\" points=\"428.5,-55.5 428.5,-91.5 \"/>\n<text text-anchor=\"middle\" x=\"469.5\" y=\"-69.8\" font-family=\"Times,serif\" font-size=\"14.00\">grad 0.5000</text>\n</g>\n<!-- 134799102395056&#45;&gt;134799102932256+ -->\n<g id=\"edge14\" class=\"edge\">\n<title>134799102395056&#45;&gt;134799102932256+</title>\n<path fill=\"none\" stroke=\"black\" d=\"M510.82,-89.28C521.07,-91.08 531.01,-92.81 539.88,-94.36\"/>\n<polygon fill=\"black\" stroke=\"black\" points=\"539.3,-97.81 549.75,-96.09 540.5,-90.92 539.3,-97.81\"/>\n</g>\n<!-- 134799102395056*&#45;&gt;134799102395056 -->\n<g id=\"edge2\" class=\"edge\">\n<title>134799102395056*&#45;&gt;134799102395056</title>\n<path fill=\"none\" stroke=\"black\" d=\"M290.21,-73.5C298.34,-73.5 307.85,-73.5 317.94,-73.5\"/>\n<polygon fill=\"black\" stroke=\"black\" points=\"318.19,-77 328.19,-73.5 318.19,-70 318.19,-77\"/>\n</g>\n<!-- 134799102928080 -->\n<g id=\"node9\" class=\"node\">\n<title>134799102928080</title>\n<polygon fill=\"none\" stroke=\"black\" points=\"1038,-54.5 1038,-90.5 1223,-90.5 1223,-54.5 1038,-54.5\"/>\n<text text-anchor=\"middle\" x=\"1049.5\" y=\"-68.8\" font-family=\"Times,serif\" font-size=\"14.00\">n</text>\n<polyline fill=\"none\" stroke=\"black\" points=\"1061,-54.5 1061,-90.5 \"/>\n<text text-anchor=\"middle\" x=\"1101\" y=\"-68.8\" font-family=\"Times,serif\" font-size=\"14.00\">data 0.8814</text>\n<polyline fill=\"none\" stroke=\"black\" points=\"1141,-54.5 1141,-90.5 \"/>\n<text text-anchor=\"middle\" x=\"1182\" y=\"-68.8\" font-family=\"Times,serif\" font-size=\"14.00\">grad 0.5000</text>\n</g>\n<!-- 134799102930192tanh -->\n<g id=\"node12\" class=\"node\">\n<title>134799102930192tanh</title>\n<ellipse fill=\"none\" stroke=\"black\" cx=\"1286\" cy=\"-72.5\" rx=\"27\" ry=\"18\"/>\n<text text-anchor=\"middle\" x=\"1286\" y=\"-68.8\" font-family=\"Times,serif\" font-size=\"14.00\">tanh</text>\n</g>\n<!-- 134799102928080&#45;&gt;134799102930192tanh -->\n<g id=\"edge6\" class=\"edge\">\n<title>134799102928080&#45;&gt;134799102930192tanh</title>\n<path fill=\"none\" stroke=\"black\" d=\"M1223.01,-72.5C1232.01,-72.5 1240.74,-72.5 1248.66,-72.5\"/>\n<polygon fill=\"black\" stroke=\"black\" points=\"1248.91,-76 1258.91,-72.5 1248.91,-69 1248.91,-76\"/>\n</g>\n<!-- 134799102928080+&#45;&gt;134799102928080 -->\n<g id=\"edge3\" class=\"edge\">\n<title>134799102928080+&#45;&gt;134799102928080</title>\n<path fill=\"none\" stroke=\"black\" d=\"M1002.04,-72.5C1009.58,-72.5 1018.3,-72.5 1027.57,-72.5\"/>\n<polygon fill=\"black\" stroke=\"black\" points=\"1027.81,-76 1037.81,-72.5 1027.81,-69 1027.81,-76\"/>\n</g>\n<!-- 134799102930192 -->\n<g id=\"node11\" class=\"node\">\n<title>134799102930192</title>\n<polygon fill=\"none\" stroke=\"black\" points=\"1349,-54.5 1349,-90.5 1534,-90.5 1534,-54.5 1349,-54.5\"/>\n<text text-anchor=\"middle\" x=\"1360.5\" y=\"-68.8\" font-family=\"Times,serif\" font-size=\"14.00\">o</text>\n<polyline fill=\"none\" stroke=\"black\" points=\"1372,-54.5 1372,-90.5 \"/>\n<text text-anchor=\"middle\" x=\"1412\" y=\"-68.8\" font-family=\"Times,serif\" font-size=\"14.00\">data 0.7071</text>\n<polyline fill=\"none\" stroke=\"black\" points=\"1452,-54.5 1452,-90.5 \"/>\n<text text-anchor=\"middle\" x=\"1493\" y=\"-68.8\" font-family=\"Times,serif\" font-size=\"14.00\">grad 1.0000</text>\n</g>\n<!-- 134799102930192tanh&#45;&gt;134799102930192 -->\n<g id=\"edge4\" class=\"edge\">\n<title>134799102930192tanh&#45;&gt;134799102930192</title>\n<path fill=\"none\" stroke=\"black\" d=\"M1313.04,-72.5C1320.58,-72.5 1329.3,-72.5 1338.57,-72.5\"/>\n<polygon fill=\"black\" stroke=\"black\" points=\"1338.81,-76 1348.81,-72.5 1338.81,-69 1338.81,-76\"/>\n</g>\n<!-- 134799102932256 -->\n<g id=\"node13\" class=\"node\">\n<title>134799102932256</title>\n<polygon fill=\"none\" stroke=\"black\" points=\"639,-82.5 639,-118.5 912,-118.5 912,-82.5 639,-82.5\"/>\n<text text-anchor=\"middle\" x=\"692\" y=\"-96.8\" font-family=\"Times,serif\" font-size=\"14.00\">x1*w1 + x2*w2</text>\n<polyline fill=\"none\" stroke=\"black\" points=\"745,-82.5 745,-118.5 \"/>\n<text text-anchor=\"middle\" x=\"787.5\" y=\"-96.8\" font-family=\"Times,serif\" font-size=\"14.00\">data &#45;6.0000</text>\n<polyline fill=\"none\" stroke=\"black\" points=\"830,-82.5 830,-118.5 \"/>\n<text text-anchor=\"middle\" x=\"871\" y=\"-96.8\" font-family=\"Times,serif\" font-size=\"14.00\">grad 0.5000</text>\n</g>\n<!-- 134799102932256&#45;&gt;134799102928080+ -->\n<g id=\"edge13\" class=\"edge\">\n<title>134799102932256&#45;&gt;134799102928080+</title>\n<path fill=\"none\" stroke=\"black\" d=\"M903.53,-82.49C916.09,-80.71 927.99,-79.02 938.3,-77.56\"/>\n<polygon fill=\"black\" stroke=\"black\" points=\"939.03,-80.99 948.44,-76.12 938.05,-74.06 939.03,-80.99\"/>\n</g>\n<!-- 134799102932256+&#45;&gt;134799102932256 -->\n<g id=\"edge5\" class=\"edge\">\n<title>134799102932256+&#45;&gt;134799102932256</title>\n<path fill=\"none\" stroke=\"black\" d=\"M603.23,-100.5C610.7,-100.5 619.41,-100.5 628.87,-100.5\"/>\n<polygon fill=\"black\" stroke=\"black\" points=\"628.98,-104 638.98,-100.5 628.98,-97 628.98,-104\"/>\n</g>\n<!-- 134799104093648 -->\n<g id=\"node15\" class=\"node\">\n<title>134799104093648</title>\n<polygon fill=\"none\" stroke=\"black\" points=\"4,-0.5 4,-36.5 196,-36.5 196,-0.5 4,-0.5\"/>\n<text text-anchor=\"middle\" x=\"19\" y=\"-14.8\" font-family=\"Times,serif\" font-size=\"14.00\">x2</text>\n<polyline fill=\"none\" stroke=\"black\" points=\"34,-0.5 34,-36.5 \"/>\n<text text-anchor=\"middle\" x=\"74\" y=\"-14.8\" font-family=\"Times,serif\" font-size=\"14.00\">data 0.0000</text>\n<polyline fill=\"none\" stroke=\"black\" points=\"114,-0.5 114,-36.5 \"/>\n<text text-anchor=\"middle\" x=\"155\" y=\"-14.8\" font-family=\"Times,serif\" font-size=\"14.00\">grad 0.5000</text>\n</g>\n<!-- 134799104093648&#45;&gt;134799102395056* -->\n<g id=\"edge10\" class=\"edge\">\n<title>134799104093648&#45;&gt;134799102395056*</title>\n<path fill=\"none\" stroke=\"black\" d=\"M169.28,-36.5C179.65,-39.61 190.16,-42.98 200,-46.5 210.28,-50.17 221.28,-54.74 231.11,-59.07\"/>\n<polygon fill=\"black\" stroke=\"black\" points=\"229.93,-62.37 240.48,-63.27 232.79,-55.99 229.93,-62.37\"/>\n</g>\n</g>\n</svg>\n",
            "text/plain": [
              "<graphviz.graphs.Digraph at 0x7a995c9d53f0>"
            ]
          },
          "metadata": {},
          "execution_count": 50
        }
      ]
    },
    {
      "cell_type": "code",
      "source": [
        "#inputs to the neuron\n",
        "\n",
        "x1 = Value(2.0,label='x1')\n",
        "x2 = Value(0.0,label='x2')\n",
        "\n",
        "#weights\n",
        "\n",
        "w1 = Value(-3.0,label='w1')\n",
        "w2 = Value(1.0,label='w2')\n",
        "\n",
        "#Bias\n",
        "\n",
        "b = Value(6.8813735870195432,label='b')\n",
        "x1w1 = x1*w1; x1w1.label='x1*w1'\n",
        "x2w2 = x2*w2; x2w2.label='x2*w2'\n",
        "\n",
        "x1w1x2w2 = x1*w1 + x2*w2; x1w1x2w2.label = 'x1*w1 + x2*w2'\n",
        "n = x1w1x2w2 + b; n.label = 'n'\n",
        "\n",
        "e = (2*n).exp()\n",
        "o = (e-1) / (e+1) ; o.label='o'\n",
        "o.backward()\n",
        "draw_dot(o)"
      ],
      "metadata": {
        "colab": {
          "base_uri": "https://localhost:8080/",
          "height": 356
        },
        "id": "uf0DciH9zuQS",
        "outputId": "7f45ce5e-db28-4bcd-b916-77dac4bc253d"
      },
      "execution_count": 53,
      "outputs": [
        {
          "output_type": "execute_result",
          "data": {
            "image/svg+xml": "<?xml version=\"1.0\" encoding=\"UTF-8\" standalone=\"no\"?>\n<!DOCTYPE svg PUBLIC \"-//W3C//DTD SVG 1.1//EN\"\n \"http://www.w3.org/Graphics/SVG/1.1/DTD/svg11.dtd\">\n<!-- Generated by graphviz version 2.43.0 (0)\n -->\n<!-- Title: %3 Pages: 1 -->\n<svg width=\"2911pt\" height=\"236pt\"\n viewBox=\"0.00 0.00 2911.00 236.00\" xmlns=\"http://www.w3.org/2000/svg\" xmlns:xlink=\"http://www.w3.org/1999/xlink\">\n<g id=\"graph0\" class=\"graph\" transform=\"scale(1 1) rotate(0) translate(4 232)\">\n<title>%3</title>\n<polygon fill=\"white\" stroke=\"transparent\" points=\"-4,4 -4,-232 2907,-232 2907,4 -4,4\"/>\n<!-- 134799101812768 -->\n<g id=\"node1\" class=\"node\">\n<title>134799101812768</title>\n<polygon fill=\"none\" stroke=\"black\" points=\"1038,-109.5 1038,-145.5 1223,-145.5 1223,-109.5 1038,-109.5\"/>\n<text text-anchor=\"middle\" x=\"1049.5\" y=\"-123.8\" font-family=\"Times,serif\" font-size=\"14.00\">n</text>\n<polyline fill=\"none\" stroke=\"black\" points=\"1061,-109.5 1061,-145.5 \"/>\n<text text-anchor=\"middle\" x=\"1101\" y=\"-123.8\" font-family=\"Times,serif\" font-size=\"14.00\">data 0.8814</text>\n<polyline fill=\"none\" stroke=\"black\" points=\"1141,-109.5 1141,-145.5 \"/>\n<text text-anchor=\"middle\" x=\"1182\" y=\"-123.8\" font-family=\"Times,serif\" font-size=\"14.00\">grad 0.5000</text>\n</g>\n<!-- 134799101812048* -->\n<g id=\"node19\" class=\"node\">\n<title>134799101812048*</title>\n<ellipse fill=\"none\" stroke=\"black\" cx=\"1286\" cy=\"-154.5\" rx=\"27\" ry=\"18\"/>\n<text text-anchor=\"middle\" x=\"1286\" y=\"-150.8\" font-family=\"Times,serif\" font-size=\"14.00\">*</text>\n</g>\n<!-- 134799101812768&#45;&gt;134799101812048* -->\n<g id=\"edge21\" class=\"edge\">\n<title>134799101812768&#45;&gt;134799101812048*</title>\n<path fill=\"none\" stroke=\"black\" d=\"M1223.01,-143.6C1232.49,-145.26 1241.66,-146.88 1249.9,-148.33\"/>\n<polygon fill=\"black\" stroke=\"black\" points=\"1249.36,-151.78 1259.81,-150.07 1250.57,-144.89 1249.36,-151.78\"/>\n</g>\n<!-- 134799101812768+ -->\n<g id=\"node2\" class=\"node\">\n<title>134799101812768+</title>\n<ellipse fill=\"none\" stroke=\"black\" cx=\"975\" cy=\"-127.5\" rx=\"27\" ry=\"18\"/>\n<text text-anchor=\"middle\" x=\"975\" y=\"-123.8\" font-family=\"Times,serif\" font-size=\"14.00\">+</text>\n</g>\n<!-- 134799101812768+&#45;&gt;134799101812768 -->\n<g id=\"edge1\" class=\"edge\">\n<title>134799101812768+&#45;&gt;134799101812768</title>\n<path fill=\"none\" stroke=\"black\" d=\"M1002.04,-127.5C1009.58,-127.5 1018.3,-127.5 1027.57,-127.5\"/>\n<polygon fill=\"black\" stroke=\"black\" points=\"1027.81,-131 1037.81,-127.5 1027.81,-124 1027.81,-131\"/>\n</g>\n<!-- 134799101816368 -->\n<g id=\"node3\" class=\"node\">\n<title>134799101816368</title>\n<polygon fill=\"none\" stroke=\"black\" points=\"328.5,-110.5 328.5,-146.5 510.5,-146.5 510.5,-110.5 328.5,-110.5\"/>\n<text text-anchor=\"middle\" x=\"338.5\" y=\"-124.8\" font-family=\"Times,serif\" font-size=\"14.00\"> </text>\n<polyline fill=\"none\" stroke=\"black\" points=\"348.5,-110.5 348.5,-146.5 \"/>\n<text text-anchor=\"middle\" x=\"388.5\" y=\"-124.8\" font-family=\"Times,serif\" font-size=\"14.00\">data 0.0000</text>\n<polyline fill=\"none\" stroke=\"black\" points=\"428.5,-110.5 428.5,-146.5 \"/>\n<text text-anchor=\"middle\" x=\"469.5\" y=\"-124.8\" font-family=\"Times,serif\" font-size=\"14.00\">grad 0.5000</text>\n</g>\n<!-- 134799101812624+ -->\n<g id=\"node13\" class=\"node\">\n<title>134799101812624+</title>\n<ellipse fill=\"none\" stroke=\"black\" cx=\"576\" cy=\"-100.5\" rx=\"27\" ry=\"18\"/>\n<text text-anchor=\"middle\" x=\"576\" y=\"-96.8\" font-family=\"Times,serif\" font-size=\"14.00\">+</text>\n</g>\n<!-- 134799101816368&#45;&gt;134799101812624+ -->\n<g id=\"edge20\" class=\"edge\">\n<title>134799101816368&#45;&gt;134799101812624+</title>\n<path fill=\"none\" stroke=\"black\" d=\"M510.82,-112.13C521.07,-110.27 531.01,-108.47 539.88,-106.87\"/>\n<polygon fill=\"black\" stroke=\"black\" points=\"540.54,-110.3 549.75,-105.08 539.29,-103.42 540.54,-110.3\"/>\n</g>\n<!-- 134799101816368* -->\n<g id=\"node4\" class=\"node\">\n<title>134799101816368*</title>\n<ellipse fill=\"none\" stroke=\"black\" cx=\"263\" cy=\"-128.5\" rx=\"27\" ry=\"18\"/>\n<text text-anchor=\"middle\" x=\"263\" y=\"-124.8\" font-family=\"Times,serif\" font-size=\"14.00\">*</text>\n</g>\n<!-- 134799101816368*&#45;&gt;134799101816368 -->\n<g id=\"edge2\" class=\"edge\">\n<title>134799101816368*&#45;&gt;134799101816368</title>\n<path fill=\"none\" stroke=\"black\" d=\"M290.21,-128.5C298.34,-128.5 307.85,-128.5 317.94,-128.5\"/>\n<polygon fill=\"black\" stroke=\"black\" points=\"318.19,-132 328.19,-128.5 318.19,-125 318.19,-132\"/>\n</g>\n<!-- 134799101809216 -->\n<g id=\"node5\" class=\"node\">\n<title>134799101809216</title>\n<polygon fill=\"none\" stroke=\"black\" points=\"2410,-112.5 2410,-148.5 2592,-148.5 2592,-112.5 2410,-112.5\"/>\n<text text-anchor=\"middle\" x=\"2420\" y=\"-126.8\" font-family=\"Times,serif\" font-size=\"14.00\"> </text>\n<polyline fill=\"none\" stroke=\"black\" points=\"2430,-112.5 2430,-148.5 \"/>\n<text text-anchor=\"middle\" x=\"2470\" y=\"-126.8\" font-family=\"Times,serif\" font-size=\"14.00\">data 0.1464</text>\n<polyline fill=\"none\" stroke=\"black\" points=\"2510,-112.5 2510,-148.5 \"/>\n<text text-anchor=\"middle\" x=\"2551\" y=\"-126.8\" font-family=\"Times,serif\" font-size=\"14.00\">grad 4.8284</text>\n</g>\n<!-- 134799101809552* -->\n<g id=\"node24\" class=\"node\">\n<title>134799101809552*</title>\n<ellipse fill=\"none\" stroke=\"black\" cx=\"2655\" cy=\"-153.5\" rx=\"27\" ry=\"18\"/>\n<text text-anchor=\"middle\" x=\"2655\" y=\"-149.8\" font-family=\"Times,serif\" font-size=\"14.00\">*</text>\n</g>\n<!-- 134799101809216&#45;&gt;134799101809552* -->\n<g id=\"edge28\" class=\"edge\">\n<title>134799101809216&#45;&gt;134799101809552*</title>\n<path fill=\"none\" stroke=\"black\" d=\"M2592.18,-144.15C2601.42,-145.54 2610.38,-146.9 2618.47,-148.12\"/>\n<polygon fill=\"black\" stroke=\"black\" points=\"2618.15,-151.61 2628.56,-149.65 2619.19,-144.69 2618.15,-151.61\"/>\n</g>\n<!-- 134799101809216**&#45;1 -->\n<g id=\"node6\" class=\"node\">\n<title>134799101809216**&#45;1</title>\n<ellipse fill=\"none\" stroke=\"black\" cx=\"2283\" cy=\"-126.5\" rx=\"27\" ry=\"18\"/>\n<text text-anchor=\"middle\" x=\"2283\" y=\"-122.8\" font-family=\"Times,serif\" font-size=\"14.00\">**&#45;1</text>\n</g>\n<!-- 134799101809216**&#45;1&#45;&gt;134799101809216 -->\n<g id=\"edge3\" class=\"edge\">\n<title>134799101809216**&#45;1&#45;&gt;134799101809216</title>\n<path fill=\"none\" stroke=\"black\" d=\"M2310.05,-126.98C2332.53,-127.4 2366.48,-128.03 2399.5,-128.64\"/>\n<polygon fill=\"black\" stroke=\"black\" points=\"2399.64,-132.14 2409.7,-128.83 2399.77,-125.14 2399.64,-132.14\"/>\n</g>\n<!-- 134799101806624 -->\n<g id=\"node7\" class=\"node\">\n<title>134799101806624</title>\n<polygon fill=\"none\" stroke=\"black\" points=\"2.5,-165.5 2.5,-201.5 197.5,-201.5 197.5,-165.5 2.5,-165.5\"/>\n<text text-anchor=\"middle\" x=\"19\" y=\"-179.8\" font-family=\"Times,serif\" font-size=\"14.00\">w2</text>\n<polyline fill=\"none\" stroke=\"black\" points=\"35.5,-165.5 35.5,-201.5 \"/>\n<text text-anchor=\"middle\" x=\"75.5\" y=\"-179.8\" font-family=\"Times,serif\" font-size=\"14.00\">data 1.0000</text>\n<polyline fill=\"none\" stroke=\"black\" points=\"115.5,-165.5 115.5,-201.5 \"/>\n<text text-anchor=\"middle\" x=\"156.5\" y=\"-179.8\" font-family=\"Times,serif\" font-size=\"14.00\">grad 0.0000</text>\n</g>\n<!-- 134799101806624&#45;&gt;134799101816368* -->\n<g id=\"edge25\" class=\"edge\">\n<title>134799101806624&#45;&gt;134799101816368*</title>\n<path fill=\"none\" stroke=\"black\" d=\"M172.53,-165.44C181.84,-162.67 191.2,-159.67 200,-156.5 210.53,-152.71 221.75,-147.9 231.72,-143.33\"/>\n<polygon fill=\"black\" stroke=\"black\" points=\"233.25,-146.48 240.82,-139.07 230.28,-140.14 233.25,-146.48\"/>\n</g>\n<!-- 134799101804608 -->\n<g id=\"node8\" class=\"node\">\n<title>134799101804608</title>\n<polygon fill=\"none\" stroke=\"black\" points=\"683,-137.5 683,-173.5 868,-173.5 868,-137.5 683,-137.5\"/>\n<text text-anchor=\"middle\" x=\"694.5\" y=\"-151.8\" font-family=\"Times,serif\" font-size=\"14.00\">b</text>\n<polyline fill=\"none\" stroke=\"black\" points=\"706,-137.5 706,-173.5 \"/>\n<text text-anchor=\"middle\" x=\"746\" y=\"-151.8\" font-family=\"Times,serif\" font-size=\"14.00\">data 6.8814</text>\n<polyline fill=\"none\" stroke=\"black\" points=\"786,-137.5 786,-173.5 \"/>\n<text text-anchor=\"middle\" x=\"827\" y=\"-151.8\" font-family=\"Times,serif\" font-size=\"14.00\">grad 0.5000</text>\n</g>\n<!-- 134799101804608&#45;&gt;134799101812768+ -->\n<g id=\"edge23\" class=\"edge\">\n<title>134799101804608&#45;&gt;134799101812768+</title>\n<path fill=\"none\" stroke=\"black\" d=\"M868.02,-142.52C893,-138.98 918.59,-135.36 938.37,-132.55\"/>\n<polygon fill=\"black\" stroke=\"black\" points=\"939.03,-135.99 948.43,-131.12 938.04,-129.06 939.03,-135.99\"/>\n</g>\n<!-- 134799101812336 -->\n<g id=\"node9\" class=\"node\">\n<title>134799101812336</title>\n<polygon fill=\"none\" stroke=\"black\" points=\"1039.5,-164.5 1039.5,-200.5 1221.5,-200.5 1221.5,-164.5 1039.5,-164.5\"/>\n<text text-anchor=\"middle\" x=\"1049.5\" y=\"-178.8\" font-family=\"Times,serif\" font-size=\"14.00\"> </text>\n<polyline fill=\"none\" stroke=\"black\" points=\"1059.5,-164.5 1059.5,-200.5 \"/>\n<text text-anchor=\"middle\" x=\"1099.5\" y=\"-178.8\" font-family=\"Times,serif\" font-size=\"14.00\">data 2.0000</text>\n<polyline fill=\"none\" stroke=\"black\" points=\"1139.5,-164.5 1139.5,-200.5 \"/>\n<text text-anchor=\"middle\" x=\"1180.5\" y=\"-178.8\" font-family=\"Times,serif\" font-size=\"14.00\">grad 0.2203</text>\n</g>\n<!-- 134799101812336&#45;&gt;134799101812048* -->\n<g id=\"edge24\" class=\"edge\">\n<title>134799101812336&#45;&gt;134799101812048*</title>\n<path fill=\"none\" stroke=\"black\" d=\"M1221.68,-166.05C1231.61,-164.24 1241.23,-162.48 1249.84,-160.91\"/>\n<polygon fill=\"black\" stroke=\"black\" points=\"1250.6,-164.33 1259.81,-159.09 1249.35,-157.45 1250.6,-164.33\"/>\n</g>\n<!-- 134799101806720 -->\n<g id=\"node10\" class=\"node\">\n<title>134799101806720</title>\n<polygon fill=\"none\" stroke=\"black\" points=\"0,-55.5 0,-91.5 200,-91.5 200,-55.5 0,-55.5\"/>\n<text text-anchor=\"middle\" x=\"16.5\" y=\"-69.8\" font-family=\"Times,serif\" font-size=\"14.00\">w1</text>\n<polyline fill=\"none\" stroke=\"black\" points=\"33,-55.5 33,-91.5 \"/>\n<text text-anchor=\"middle\" x=\"75.5\" y=\"-69.8\" font-family=\"Times,serif\" font-size=\"14.00\">data &#45;3.0000</text>\n<polyline fill=\"none\" stroke=\"black\" points=\"118,-55.5 118,-91.5 \"/>\n<text text-anchor=\"middle\" x=\"159\" y=\"-69.8\" font-family=\"Times,serif\" font-size=\"14.00\">grad 1.0000</text>\n</g>\n<!-- 134799101819152* -->\n<g id=\"node15\" class=\"node\">\n<title>134799101819152*</title>\n<ellipse fill=\"none\" stroke=\"black\" cx=\"263\" cy=\"-73.5\" rx=\"27\" ry=\"18\"/>\n<text text-anchor=\"middle\" x=\"263\" y=\"-69.8\" font-family=\"Times,serif\" font-size=\"14.00\">*</text>\n</g>\n<!-- 134799101806720&#45;&gt;134799101819152* -->\n<g id=\"edge19\" class=\"edge\">\n<title>134799101806720&#45;&gt;134799101819152*</title>\n<path fill=\"none\" stroke=\"black\" d=\"M200.21,-73.5C209.2,-73.5 217.86,-73.5 225.7,-73.5\"/>\n<polygon fill=\"black\" stroke=\"black\" points=\"225.85,-77 235.85,-73.5 225.85,-70 225.85,-77\"/>\n</g>\n<!-- 134799101811808 -->\n<g id=\"node11\" class=\"node\">\n<title>134799101811808</title>\n<polygon fill=\"none\" stroke=\"black\" points=\"1657,-191.5 1657,-227.5 1844,-227.5 1844,-191.5 1657,-191.5\"/>\n<text text-anchor=\"middle\" x=\"1667\" y=\"-205.8\" font-family=\"Times,serif\" font-size=\"14.00\"> </text>\n<polyline fill=\"none\" stroke=\"black\" points=\"1677,-191.5 1677,-227.5 \"/>\n<text text-anchor=\"middle\" x=\"1719.5\" y=\"-205.8\" font-family=\"Times,serif\" font-size=\"14.00\">data &#45;1.0000</text>\n<polyline fill=\"none\" stroke=\"black\" points=\"1762,-191.5 1762,-227.5 \"/>\n<text text-anchor=\"middle\" x=\"1803\" y=\"-205.8\" font-family=\"Times,serif\" font-size=\"14.00\">grad 0.1464</text>\n</g>\n<!-- 134799101811664+ -->\n<g id=\"node28\" class=\"node\">\n<title>134799101811664+</title>\n<ellipse fill=\"none\" stroke=\"black\" cx=\"1907\" cy=\"-181.5\" rx=\"27\" ry=\"18\"/>\n<text text-anchor=\"middle\" x=\"1907\" y=\"-177.8\" font-family=\"Times,serif\" font-size=\"14.00\">+</text>\n</g>\n<!-- 134799101811808&#45;&gt;134799101811664+ -->\n<g id=\"edge12\" class=\"edge\">\n<title>134799101811808&#45;&gt;134799101811664+</title>\n<path fill=\"none\" stroke=\"black\" d=\"M1844.05,-192.73C1853.54,-191.01 1862.71,-189.35 1870.95,-187.85\"/>\n<polygon fill=\"black\" stroke=\"black\" points=\"1871.64,-191.28 1880.85,-186.06 1870.39,-184.4 1871.64,-191.28\"/>\n</g>\n<!-- 134799101812624 -->\n<g id=\"node12\" class=\"node\">\n<title>134799101812624</title>\n<polygon fill=\"none\" stroke=\"black\" points=\"639,-82.5 639,-118.5 912,-118.5 912,-82.5 639,-82.5\"/>\n<text text-anchor=\"middle\" x=\"692\" y=\"-96.8\" font-family=\"Times,serif\" font-size=\"14.00\">x1*w1 + x2*w2</text>\n<polyline fill=\"none\" stroke=\"black\" points=\"745,-82.5 745,-118.5 \"/>\n<text text-anchor=\"middle\" x=\"787.5\" y=\"-96.8\" font-family=\"Times,serif\" font-size=\"14.00\">data &#45;6.0000</text>\n<polyline fill=\"none\" stroke=\"black\" points=\"830,-82.5 830,-118.5 \"/>\n<text text-anchor=\"middle\" x=\"871\" y=\"-96.8\" font-family=\"Times,serif\" font-size=\"14.00\">grad 0.5000</text>\n</g>\n<!-- 134799101812624&#45;&gt;134799101812768+ -->\n<g id=\"edge13\" class=\"edge\">\n<title>134799101812624&#45;&gt;134799101812768+</title>\n<path fill=\"none\" stroke=\"black\" d=\"M908.24,-118.51C919.12,-120 929.4,-121.4 938.45,-122.64\"/>\n<polygon fill=\"black\" stroke=\"black\" points=\"938.11,-126.13 948.49,-124.01 939.05,-119.19 938.11,-126.13\"/>\n</g>\n<!-- 134799101812624+&#45;&gt;134799101812624 -->\n<g id=\"edge4\" class=\"edge\">\n<title>134799101812624+&#45;&gt;134799101812624</title>\n<path fill=\"none\" stroke=\"black\" d=\"M603.23,-100.5C610.7,-100.5 619.41,-100.5 628.87,-100.5\"/>\n<polygon fill=\"black\" stroke=\"black\" points=\"628.98,-104 638.98,-100.5 628.98,-97 628.98,-104\"/>\n</g>\n<!-- 134799101819152 -->\n<g id=\"node14\" class=\"node\">\n<title>134799101819152</title>\n<polygon fill=\"none\" stroke=\"black\" points=\"326,-55.5 326,-91.5 513,-91.5 513,-55.5 326,-55.5\"/>\n<text text-anchor=\"middle\" x=\"336\" y=\"-69.8\" font-family=\"Times,serif\" font-size=\"14.00\"> </text>\n<polyline fill=\"none\" stroke=\"black\" points=\"346,-55.5 346,-91.5 \"/>\n<text text-anchor=\"middle\" x=\"388.5\" y=\"-69.8\" font-family=\"Times,serif\" font-size=\"14.00\">data &#45;6.0000</text>\n<polyline fill=\"none\" stroke=\"black\" points=\"431,-55.5 431,-91.5 \"/>\n<text text-anchor=\"middle\" x=\"472\" y=\"-69.8\" font-family=\"Times,serif\" font-size=\"14.00\">grad 0.5000</text>\n</g>\n<!-- 134799101819152&#45;&gt;134799101812624+ -->\n<g id=\"edge15\" class=\"edge\">\n<title>134799101819152&#45;&gt;134799101812624+</title>\n<path fill=\"none\" stroke=\"black\" d=\"M513.05,-89.67C522.34,-91.3 531.33,-92.87 539.44,-94.29\"/>\n<polygon fill=\"black\" stroke=\"black\" points=\"539.1,-97.78 549.55,-96.05 540.3,-90.88 539.1,-97.78\"/>\n</g>\n<!-- 134799101819152*&#45;&gt;134799101819152 -->\n<g id=\"edge5\" class=\"edge\">\n<title>134799101819152*&#45;&gt;134799101819152</title>\n<path fill=\"none\" stroke=\"black\" d=\"M290.21,-73.5C297.73,-73.5 306.43,-73.5 315.67,-73.5\"/>\n<polygon fill=\"black\" stroke=\"black\" points=\"315.89,-77 325.89,-73.5 315.89,-70 315.89,-77\"/>\n</g>\n<!-- 134799101812000 -->\n<g id=\"node16\" class=\"node\">\n<title>134799101812000</title>\n<polygon fill=\"none\" stroke=\"black\" points=\"1659.5,-136.5 1659.5,-172.5 1841.5,-172.5 1841.5,-136.5 1659.5,-136.5\"/>\n<text text-anchor=\"middle\" x=\"1669.5\" y=\"-150.8\" font-family=\"Times,serif\" font-size=\"14.00\"> </text>\n<polyline fill=\"none\" stroke=\"black\" points=\"1679.5,-136.5 1679.5,-172.5 \"/>\n<text text-anchor=\"middle\" x=\"1719.5\" y=\"-150.8\" font-family=\"Times,serif\" font-size=\"14.00\">data 5.8284</text>\n<polyline fill=\"none\" stroke=\"black\" points=\"1759.5,-136.5 1759.5,-172.5 \"/>\n<text text-anchor=\"middle\" x=\"1800.5\" y=\"-150.8\" font-family=\"Times,serif\" font-size=\"14.00\">grad 0.0429</text>\n</g>\n<!-- 134799101809024+ -->\n<g id=\"node22\" class=\"node\">\n<title>134799101809024+</title>\n<ellipse fill=\"none\" stroke=\"black\" cx=\"1907\" cy=\"-126.5\" rx=\"27\" ry=\"18\"/>\n<text text-anchor=\"middle\" x=\"1907\" y=\"-122.8\" font-family=\"Times,serif\" font-size=\"14.00\">+</text>\n</g>\n<!-- 134799101812000&#45;&gt;134799101809024+ -->\n<g id=\"edge18\" class=\"edge\">\n<title>134799101812000&#45;&gt;134799101809024+</title>\n<path fill=\"none\" stroke=\"black\" d=\"M1841.82,-138.13C1852.07,-136.27 1862.01,-134.47 1870.88,-132.87\"/>\n<polygon fill=\"black\" stroke=\"black\" points=\"1871.54,-136.3 1880.75,-131.08 1870.29,-129.42 1871.54,-136.3\"/>\n</g>\n<!-- 134799101812000&#45;&gt;134799101811664+ -->\n<g id=\"edge11\" class=\"edge\">\n<title>134799101812000&#45;&gt;134799101811664+</title>\n<path fill=\"none\" stroke=\"black\" d=\"M1841.82,-170.28C1852.07,-172.08 1862.01,-173.81 1870.88,-175.36\"/>\n<polygon fill=\"black\" stroke=\"black\" points=\"1870.3,-178.81 1880.75,-177.09 1871.5,-171.92 1870.3,-178.81\"/>\n</g>\n<!-- 134799101812000exp -->\n<g id=\"node17\" class=\"node\">\n<title>134799101812000exp</title>\n<ellipse fill=\"none\" stroke=\"black\" cx=\"1594\" cy=\"-154.5\" rx=\"27\" ry=\"18\"/>\n<text text-anchor=\"middle\" x=\"1594\" y=\"-150.8\" font-family=\"Times,serif\" font-size=\"14.00\">exp</text>\n</g>\n<!-- 134799101812000exp&#45;&gt;134799101812000 -->\n<g id=\"edge6\" class=\"edge\">\n<title>134799101812000exp&#45;&gt;134799101812000</title>\n<path fill=\"none\" stroke=\"black\" d=\"M1621.21,-154.5C1629.34,-154.5 1638.85,-154.5 1648.94,-154.5\"/>\n<polygon fill=\"black\" stroke=\"black\" points=\"1649.19,-158 1659.19,-154.5 1649.19,-151 1649.19,-158\"/>\n</g>\n<!-- 134799101812048 -->\n<g id=\"node18\" class=\"node\">\n<title>134799101812048</title>\n<polygon fill=\"none\" stroke=\"black\" points=\"1349,-136.5 1349,-172.5 1531,-172.5 1531,-136.5 1349,-136.5\"/>\n<text text-anchor=\"middle\" x=\"1359\" y=\"-150.8\" font-family=\"Times,serif\" font-size=\"14.00\"> </text>\n<polyline fill=\"none\" stroke=\"black\" points=\"1369,-136.5 1369,-172.5 \"/>\n<text text-anchor=\"middle\" x=\"1409\" y=\"-150.8\" font-family=\"Times,serif\" font-size=\"14.00\">data 1.7627</text>\n<polyline fill=\"none\" stroke=\"black\" points=\"1449,-136.5 1449,-172.5 \"/>\n<text text-anchor=\"middle\" x=\"1490\" y=\"-150.8\" font-family=\"Times,serif\" font-size=\"14.00\">grad 0.2500</text>\n</g>\n<!-- 134799101812048&#45;&gt;134799101812000exp -->\n<g id=\"edge27\" class=\"edge\">\n<title>134799101812048&#45;&gt;134799101812000exp</title>\n<path fill=\"none\" stroke=\"black\" d=\"M1531.18,-154.5C1540.14,-154.5 1548.83,-154.5 1556.73,-154.5\"/>\n<polygon fill=\"black\" stroke=\"black\" points=\"1556.96,-158 1566.96,-154.5 1556.96,-151 1556.96,-158\"/>\n</g>\n<!-- 134799101812048*&#45;&gt;134799101812048 -->\n<g id=\"edge7\" class=\"edge\">\n<title>134799101812048*&#45;&gt;134799101812048</title>\n<path fill=\"none\" stroke=\"black\" d=\"M1313.13,-154.5C1320.67,-154.5 1329.39,-154.5 1338.64,-154.5\"/>\n<polygon fill=\"black\" stroke=\"black\" points=\"1338.87,-158 1348.87,-154.5 1338.87,-151 1338.87,-158\"/>\n</g>\n<!-- 134799101820256 -->\n<g id=\"node20\" class=\"node\">\n<title>134799101820256</title>\n<polygon fill=\"none\" stroke=\"black\" points=\"1657.5,-81.5 1657.5,-117.5 1843.5,-117.5 1843.5,-81.5 1657.5,-81.5\"/>\n<text text-anchor=\"middle\" x=\"1667.5\" y=\"-95.8\" font-family=\"Times,serif\" font-size=\"14.00\"> </text>\n<polyline fill=\"none\" stroke=\"black\" points=\"1677.5,-81.5 1677.5,-117.5 \"/>\n<text text-anchor=\"middle\" x=\"1717.5\" y=\"-95.8\" font-family=\"Times,serif\" font-size=\"14.00\">data 1.0000</text>\n<polyline fill=\"none\" stroke=\"black\" points=\"1757.5,-81.5 1757.5,-117.5 \"/>\n<text text-anchor=\"middle\" x=\"1800.5\" y=\"-95.8\" font-family=\"Times,serif\" font-size=\"14.00\">grad &#45;0.1036</text>\n</g>\n<!-- 134799101820256&#45;&gt;134799101809024+ -->\n<g id=\"edge26\" class=\"edge\">\n<title>134799101820256&#45;&gt;134799101809024+</title>\n<path fill=\"none\" stroke=\"black\" d=\"M1843.6,-115.6C1853.15,-117.26 1862.37,-118.88 1870.68,-120.33\"/>\n<polygon fill=\"black\" stroke=\"black\" points=\"1870.2,-123.8 1880.65,-122.07 1871.4,-116.9 1870.2,-123.8\"/>\n</g>\n<!-- 134799101809024 -->\n<g id=\"node21\" class=\"node\">\n<title>134799101809024</title>\n<polygon fill=\"none\" stroke=\"black\" points=\"1970,-108.5 1970,-144.5 2156,-144.5 2156,-108.5 1970,-108.5\"/>\n<text text-anchor=\"middle\" x=\"1980\" y=\"-122.8\" font-family=\"Times,serif\" font-size=\"14.00\"> </text>\n<polyline fill=\"none\" stroke=\"black\" points=\"1990,-108.5 1990,-144.5 \"/>\n<text text-anchor=\"middle\" x=\"2030\" y=\"-122.8\" font-family=\"Times,serif\" font-size=\"14.00\">data 6.8284</text>\n<polyline fill=\"none\" stroke=\"black\" points=\"2070,-108.5 2070,-144.5 \"/>\n<text text-anchor=\"middle\" x=\"2113\" y=\"-122.8\" font-family=\"Times,serif\" font-size=\"14.00\">grad &#45;0.1036</text>\n</g>\n<!-- 134799101809024&#45;&gt;134799101809216**&#45;1 -->\n<g id=\"edge16\" class=\"edge\">\n<title>134799101809024&#45;&gt;134799101809216**&#45;1</title>\n<path fill=\"none\" stroke=\"black\" d=\"M2156.14,-126.5C2187.72,-126.5 2221.24,-126.5 2245.74,-126.5\"/>\n<polygon fill=\"black\" stroke=\"black\" points=\"2245.98,-130 2255.98,-126.5 2245.98,-123 2245.98,-130\"/>\n</g>\n<!-- 134799101809024+&#45;&gt;134799101809024 -->\n<g id=\"edge8\" class=\"edge\">\n<title>134799101809024+&#45;&gt;134799101809024</title>\n<path fill=\"none\" stroke=\"black\" d=\"M1934.12,-126.5C1941.62,-126.5 1950.29,-126.5 1959.5,-126.5\"/>\n<polygon fill=\"black\" stroke=\"black\" points=\"1959.69,-130 1969.69,-126.5 1959.69,-123 1959.69,-130\"/>\n</g>\n<!-- 134799101809552 -->\n<g id=\"node23\" class=\"node\">\n<title>134799101809552</title>\n<polygon fill=\"none\" stroke=\"black\" points=\"2718,-135.5 2718,-171.5 2903,-171.5 2903,-135.5 2718,-135.5\"/>\n<text text-anchor=\"middle\" x=\"2729.5\" y=\"-149.8\" font-family=\"Times,serif\" font-size=\"14.00\">o</text>\n<polyline fill=\"none\" stroke=\"black\" points=\"2741,-135.5 2741,-171.5 \"/>\n<text text-anchor=\"middle\" x=\"2781\" y=\"-149.8\" font-family=\"Times,serif\" font-size=\"14.00\">data 0.7071</text>\n<polyline fill=\"none\" stroke=\"black\" points=\"2821,-135.5 2821,-171.5 \"/>\n<text text-anchor=\"middle\" x=\"2862\" y=\"-149.8\" font-family=\"Times,serif\" font-size=\"14.00\">grad 1.0000</text>\n</g>\n<!-- 134799101809552*&#45;&gt;134799101809552 -->\n<g id=\"edge9\" class=\"edge\">\n<title>134799101809552*&#45;&gt;134799101809552</title>\n<path fill=\"none\" stroke=\"black\" d=\"M2682.04,-153.5C2689.58,-153.5 2698.3,-153.5 2707.57,-153.5\"/>\n<polygon fill=\"black\" stroke=\"black\" points=\"2707.81,-157 2717.81,-153.5 2707.81,-150 2707.81,-157\"/>\n</g>\n<!-- 134799101805472 -->\n<g id=\"node25\" class=\"node\">\n<title>134799101805472</title>\n<polygon fill=\"none\" stroke=\"black\" points=\"4,-110.5 4,-146.5 196,-146.5 196,-110.5 4,-110.5\"/>\n<text text-anchor=\"middle\" x=\"19\" y=\"-124.8\" font-family=\"Times,serif\" font-size=\"14.00\">x2</text>\n<polyline fill=\"none\" stroke=\"black\" points=\"34,-110.5 34,-146.5 \"/>\n<text text-anchor=\"middle\" x=\"74\" y=\"-124.8\" font-family=\"Times,serif\" font-size=\"14.00\">data 0.0000</text>\n<polyline fill=\"none\" stroke=\"black\" points=\"114,-110.5 114,-146.5 \"/>\n<text text-anchor=\"middle\" x=\"155\" y=\"-124.8\" font-family=\"Times,serif\" font-size=\"14.00\">grad 0.5000</text>\n</g>\n<!-- 134799101805472&#45;&gt;134799101816368* -->\n<g id=\"edge22\" class=\"edge\">\n<title>134799101805472&#45;&gt;134799101816368*</title>\n<path fill=\"none\" stroke=\"black\" d=\"M196.05,-128.5C206.52,-128.5 216.65,-128.5 225.71,-128.5\"/>\n<polygon fill=\"black\" stroke=\"black\" points=\"225.79,-132 235.79,-128.5 225.79,-125 225.79,-132\"/>\n</g>\n<!-- 134799101806528 -->\n<g id=\"node26\" class=\"node\">\n<title>134799101806528</title>\n<polygon fill=\"none\" stroke=\"black\" points=\"2,-0.5 2,-36.5 198,-36.5 198,-0.5 2,-0.5\"/>\n<text text-anchor=\"middle\" x=\"17\" y=\"-14.8\" font-family=\"Times,serif\" font-size=\"14.00\">x1</text>\n<polyline fill=\"none\" stroke=\"black\" points=\"32,-0.5 32,-36.5 \"/>\n<text text-anchor=\"middle\" x=\"72\" y=\"-14.8\" font-family=\"Times,serif\" font-size=\"14.00\">data 2.0000</text>\n<polyline fill=\"none\" stroke=\"black\" points=\"112,-0.5 112,-36.5 \"/>\n<text text-anchor=\"middle\" x=\"155\" y=\"-14.8\" font-family=\"Times,serif\" font-size=\"14.00\">grad &#45;1.5000</text>\n</g>\n<!-- 134799101806528&#45;&gt;134799101819152* -->\n<g id=\"edge17\" class=\"edge\">\n<title>134799101806528&#45;&gt;134799101819152*</title>\n<path fill=\"none\" stroke=\"black\" d=\"M172.53,-36.56C181.84,-39.33 191.2,-42.33 200,-45.5 210.53,-49.29 221.75,-54.1 231.72,-58.67\"/>\n<polygon fill=\"black\" stroke=\"black\" points=\"230.28,-61.86 240.82,-62.93 233.25,-55.52 230.28,-61.86\"/>\n</g>\n<!-- 134799101811664 -->\n<g id=\"node27\" class=\"node\">\n<title>134799101811664</title>\n<polygon fill=\"none\" stroke=\"black\" points=\"2192,-163.5 2192,-199.5 2374,-199.5 2374,-163.5 2192,-163.5\"/>\n<text text-anchor=\"middle\" x=\"2202\" y=\"-177.8\" font-family=\"Times,serif\" font-size=\"14.00\"> </text>\n<polyline fill=\"none\" stroke=\"black\" points=\"2212,-163.5 2212,-199.5 \"/>\n<text text-anchor=\"middle\" x=\"2252\" y=\"-177.8\" font-family=\"Times,serif\" font-size=\"14.00\">data 4.8284</text>\n<polyline fill=\"none\" stroke=\"black\" points=\"2292,-163.5 2292,-199.5 \"/>\n<text text-anchor=\"middle\" x=\"2333\" y=\"-177.8\" font-family=\"Times,serif\" font-size=\"14.00\">grad 0.1464</text>\n</g>\n<!-- 134799101811664&#45;&gt;134799101809552* -->\n<g id=\"edge14\" class=\"edge\">\n<title>134799101811664&#45;&gt;134799101809552*</title>\n<path fill=\"none\" stroke=\"black\" d=\"M2374.31,-174.9C2435.7,-170.37 2518.76,-164.19 2592,-158.5 2600.42,-157.85 2609.48,-157.13 2618.01,-156.44\"/>\n<polygon fill=\"black\" stroke=\"black\" points=\"2618.37,-159.92 2628.06,-155.63 2617.81,-152.94 2618.37,-159.92\"/>\n</g>\n<!-- 134799101811664+&#45;&gt;134799101811664 -->\n<g id=\"edge10\" class=\"edge\">\n<title>134799101811664+&#45;&gt;134799101811664</title>\n<path fill=\"none\" stroke=\"black\" d=\"M1934,-181.5C1984.46,-181.5 2098.06,-181.5 2181.81,-181.5\"/>\n<polygon fill=\"black\" stroke=\"black\" points=\"2181.87,-185 2191.87,-181.5 2181.87,-178 2181.87,-185\"/>\n</g>\n</g>\n</svg>\n",
            "text/plain": [
              "<graphviz.graphs.Digraph at 0x7a995c945cf0>"
            ]
          },
          "metadata": {},
          "execution_count": 53
        }
      ]
    },
    {
      "cell_type": "code",
      "source": [
        "# Topological Sorting\n",
        "\n",
        "topo = []\n",
        "\n",
        "visited = set()\n",
        "\n",
        "def build_topo(v):\n",
        "  if v not in visited:\n",
        "    visited.add(v)\n",
        "    for child in v._prev:\n",
        "      build_topo(child)\n",
        "    topo.append(v)\n",
        "\n",
        "\n",
        "build_topo(o)\n",
        "topo"
      ],
      "metadata": {
        "colab": {
          "base_uri": "https://localhost:8080/"
        },
        "id": "jE0M2OnOq4ug",
        "outputId": "31df43a2-949b-411c-c041-15c04d47151a"
      },
      "execution_count": 16,
      "outputs": [
        {
          "output_type": "execute_result",
          "data": {
            "text/plain": [
              "[Value(data=6.881373587019543),\n",
              " Value(data=0.0),\n",
              " Value(data=1.0),\n",
              " Value(data=0.0),\n",
              " Value(data=-3.0),\n",
              " Value(data=2.0),\n",
              " Value(data=-6.0),\n",
              " Value(data=-6.0),\n",
              " Value(data=0.8813735870195432),\n",
              " Value(data=0.7071067811865476)]"
            ]
          },
          "metadata": {},
          "execution_count": 16
        }
      ]
    },
    {
      "cell_type": "code",
      "source": [],
      "metadata": {
        "id": "_wti5tdlu0fv"
      },
      "execution_count": null,
      "outputs": []
    }
  ]
}