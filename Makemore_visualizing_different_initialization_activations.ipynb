{
  "nbformat": 4,
  "nbformat_minor": 0,
  "metadata": {
    "colab": {
      "provenance": [],
      "authorship_tag": "ABX9TyNoZ4eEJ2uPn46HtiwAgygv",
      "include_colab_link": true
    },
    "kernelspec": {
      "name": "python3",
      "display_name": "Python 3"
    },
    "language_info": {
      "name": "python"
    }
  },
  "cells": [
    {
      "cell_type": "markdown",
      "metadata": {
        "id": "view-in-github",
        "colab_type": "text"
      },
      "source": [
        "<a href=\"https://colab.research.google.com/github/Nithin-47/Neural_Net/blob/main/Makemore_visualizing_different_initialization_activations.ipynb\" target=\"_parent\"><img src=\"https://colab.research.google.com/assets/colab-badge.svg\" alt=\"Open In Colab\"/></a>"
      ]
    },
    {
      "cell_type": "code",
      "execution_count": null,
      "metadata": {
        "id": "xKbKEDiJArxk"
      },
      "outputs": [],
      "source": [
        "\n",
        "import torch\n",
        "import torch.nn.functional as F\n",
        "import matplotlib.pyplot as plt\n",
        "%matplotlib inline"
      ]
    },
    {
      "cell_type": "code",
      "source": [
        "words = open('/content/names.txt','r').read().splitlines()\n"
      ],
      "metadata": {
        "id": "cUNkcw0DBUoc"
      },
      "execution_count": null,
      "outputs": []
    },
    {
      "cell_type": "code",
      "source": [
        "# Building Vocabulary of Characters\n",
        "\n",
        "chars = sorted(list(set(''.join(words))))\n",
        "stoi = {s:i+1 for i,s in enumerate(chars)}\n",
        "stoi['.'] = 0\n",
        "itos = {i:s for s,i in stoi.items()}\n",
        "vocab_size = len(itos)\n",
        "\n"
      ],
      "metadata": {
        "id": "gjqwEp3VBmga"
      },
      "execution_count": null,
      "outputs": []
    },
    {
      "cell_type": "code",
      "source": [
        "# Building Dataset\n",
        "\n",
        "block_size = 3\n",
        "\n",
        "def build_dataset(words):\n",
        "\n",
        "  block = 3\n",
        "\n",
        "  X, Y = [], []\n",
        "  for w in words:\n",
        "    context = [0] * block\n",
        "    for ch in w + '.':\n",
        "      ix = stoi[ch]\n",
        "      X.append(context)\n",
        "      Y.append(ix)\n",
        "      context = context[1:] + [ix]\n",
        "\n",
        "\n",
        "  X = torch.tensor(X)\n",
        "  Y = torch.tensor(Y)\n",
        "\n",
        "  return X, Y\n",
        "\n",
        "\n",
        "\n",
        "# Splitting the dataset\n",
        "\n",
        "import random\n",
        "random.seed(42)\n",
        "random.shuffle(words)\n",
        "n1 = int(0.8*len(words))\n",
        "n2 = int(0.9*len(words))\n",
        "\n",
        "Xtr, Ytr = build_dataset(words[:n1])\n",
        "Xdev, Ydev = build_dataset(words[n1:n2])\n",
        "Xte, Yte = build_dataset(words[n2:])"
      ],
      "metadata": {
        "id": "NWFsq24XBx2p"
      },
      "execution_count": null,
      "outputs": []
    },
    {
      "cell_type": "code",
      "source": [
        "# MLP\n",
        "\n",
        "n_emb = 10\n",
        "n_hidden = 200\n",
        "\n",
        "g = torch.Generator().manual_seed(2147483647)\n",
        "\n",
        "C = torch.randn((vocab_size,n_emb),generator = g)\n",
        "W1 = torch.randn((n_emb*block_size,n_hidden),generator=g) * (5/3) / ((n_emb*block_size)**0.5)\n",
        "# b1 = torch.randn(n_hidden,generator=g) * 0.01 (Not required since batch normalization is done and biasing is handeled by bnbias)\n",
        "W2 = torch.randn((200,27),generator=g) * 0.01\n",
        "b2 = torch.randn(27,generator=g) * 0\n",
        "\n",
        "bngain = torch.ones(1,n_hidden)\n",
        "bnbias = torch.zeros(1,n_hidden)\n",
        "\n",
        "bnmean_running = torch.zeros(1,n_hidden)\n",
        "bnstd_running = torch.ones(1,n_hidden)\n",
        "\n",
        "parameters = [C,W1,b1,W2,b2,bngain,bnbias]\n",
        "print(sum(p.nelement() for p in parameters))\n",
        "for p in parameters:\n",
        "  p.requires_grad = True"
      ],
      "metadata": {
        "id": "Y92isxBdCApg",
        "colab": {
          "base_uri": "https://localhost:8080/"
        },
        "outputId": "55a46687-bff7-4c39-e0e5-08074efe1c94"
      },
      "execution_count": null,
      "outputs": [
        {
          "output_type": "stream",
          "name": "stdout",
          "text": [
            "12297\n"
          ]
        }
      ]
    },
    {
      "cell_type": "code",
      "source": [
        "max_steps = 200000\n",
        "batch_size = 32\n",
        "lossi = []\n",
        "\n",
        "\n",
        "# Forward Pass\n",
        "\n",
        "\n",
        "for i in range(max_steps):\n",
        "\n",
        "  # Constructing mini Batches\n",
        "  ix = torch.randint(0,Xtr.shape[0],(batch_size,),generator=g)\n",
        "  Xb, Yb = Xtr[ix], Ytr[ix]\n",
        "\n",
        "  emb = C[Xb]\n",
        "  embcat = emb.view(emb.shape[0],-1)\n",
        "  hpreact = embcat @ W1 # + b1\n",
        "  bnmeani = hpreact.mean(0,keepdim = True)\n",
        "  bnstdi = hpreact.std(0,keepdim=True)\n",
        "  hpreact = bngain * (hpreact - bnmeani)/bnstdi + bnbias\n",
        "\n",
        "\n",
        "  with torch.no_grad():\n",
        "    bnmean_running = 0.999 * bnmean_running + 0.001 * bnmeani\n",
        "    bnstd_running = 0.999 * bnstd_running + 0.001*bnstdi\n",
        "\n",
        "\n",
        "  h = torch.tanh(hpreact)\n",
        "  logits = h @ W2 + b2\n",
        "  loss = F.cross_entropy(logits,Yb)\n",
        "\n",
        "  # Backward Pass\n",
        "  for p in parameters:\n",
        "    p.grad = None\n",
        "  loss.backward()\n",
        "\n",
        "  # Update\n",
        "  lr = 0.1 if i < 100000 else 0.01\n",
        "  for p in parameters:\n",
        "    p.data += -lr * p.grad\n",
        "\n",
        "  # Track stats\n",
        "  # lri.append(lre[i])\n",
        "  if i % 10000 == 0:\n",
        "    print(f'{i:7d}/{max_steps:7d}: {loss.item():.4f}')\n",
        "  lossi.append(loss.log10().item())\n",
        "\n",
        "\n",
        "# print(loss.item())"
      ],
      "metadata": {
        "colab": {
          "base_uri": "https://localhost:8080/"
        },
        "id": "ipdJMkTU4BGP",
        "outputId": "0a82b06e-cb70-458d-f5b1-896a32d70832"
      },
      "execution_count": null,
      "outputs": [
        {
          "output_type": "stream",
          "name": "stdout",
          "text": [
            "      0/ 200000: 3.3013\n",
            "  10000/ 200000: 2.0035\n",
            "  20000/ 200000: 2.0043\n",
            "  30000/ 200000: 2.0937\n",
            "  40000/ 200000: 2.2616\n",
            "  50000/ 200000: 2.1408\n",
            "  60000/ 200000: 2.0564\n",
            "  70000/ 200000: 2.3588\n",
            "  80000/ 200000: 2.3619\n",
            "  90000/ 200000: 2.2137\n",
            " 100000/ 200000: 2.3094\n",
            " 110000/ 200000: 1.8927\n",
            " 120000/ 200000: 2.2329\n",
            " 130000/ 200000: 2.0224\n",
            " 140000/ 200000: 1.7848\n",
            " 150000/ 200000: 2.3820\n",
            " 160000/ 200000: 2.2525\n",
            " 170000/ 200000: 1.7767\n",
            " 180000/ 200000: 1.9479\n",
            " 190000/ 200000: 2.2804\n"
          ]
        }
      ]
    },
    {
      "cell_type": "code",
      "source": [
        "# Calibrating batch norm at the end of training\n",
        "\n",
        "with torch.no_grad():\n",
        "  # Pass the training set through\n",
        "  emb = C[Xtr]\n",
        "  embcat = emb.view(emb.shape[0],-1)\n",
        "  hpreact = embcat @ W1 + b1\n",
        "\n",
        "  # Meausre the mean/std over the entire training set\n",
        "  bnmean = hpreact.mean(0,keepdim=True)\n",
        "  bnstd = hpreact.std(0,keepdim = True)"
      ],
      "metadata": {
        "id": "6331gJSBu07D"
      },
      "execution_count": null,
      "outputs": []
    },
    {
      "cell_type": "code",
      "source": [
        "@torch.no_grad()\n",
        "def split_loss(split):\n",
        "  x, y = {\n",
        "      'train': (Xtr, Ytr),\n",
        "      'val': (Xdev, Ydev),\n",
        "      'test': (Xte, Yte)\n",
        "  }[split]\n",
        "\n",
        "  emb = C[x]\n",
        "  embcat = emb.view(emb.shape[0],-1)\n",
        "  hpreact = embcat @ W1 + b1\n",
        "  hpreact = bngain * (hpreact - bnmean_running)/bnstd_running + bnbias\n",
        "  h = torch.tanh(hpreact)\n",
        "  logits = h @ W2 + b2\n",
        "  loss = F.cross_entropy(logits,y)\n",
        "  print(split, loss.item())\n",
        "\n",
        "split_loss('train')\n",
        "split_loss('val')"
      ],
      "metadata": {
        "colab": {
          "base_uri": "https://localhost:8080/"
        },
        "id": "3uKQzkFm5jS-",
        "outputId": "aae15f3b-9fdd-4351-917a-5cf0e1c07b4c"
      },
      "execution_count": null,
      "outputs": [
        {
          "output_type": "stream",
          "name": "stdout",
          "text": [
            "train 2.066436290740967\n",
            "val 2.105018138885498\n"
          ]
        }
      ]
    },
    {
      "cell_type": "code",
      "source": [
        "# Sampling from the model\n",
        "\n",
        "gi = torch.Generator().manual_seed(2147483647+10)\n",
        "# block = 3\n",
        "for _ in range(20):\n",
        "  out = []\n",
        "  context = [0] * block_size\n",
        "\n",
        "  while True:\n",
        "    emb = C[torch.tensor([context])]\n",
        "    h = torch.tanh(emb.view(1,-1) @ W1 + b1)\n",
        "    logits = h @ W2 + b2\n",
        "    probs = F.softmax(logits,dim=1)\n",
        "    ix = torch.multinomial(probs,num_samples=1,generator=gi).item()\n",
        "    context = context[1:] + [ix]\n",
        "    out.append(ix)\n",
        "    if ix == 0:\n",
        "      break\n",
        "\n",
        "  print(''.join((itos[i]) for i in out))"
      ],
      "metadata": {
        "colab": {
          "base_uri": "https://localhost:8080/"
        },
        "id": "w-yHK6Dt6PIa",
        "outputId": "b12e0959-f0c9-4f67-d551-53392ef87709"
      },
      "execution_count": null,
      "outputs": [
        {
          "output_type": "stream",
          "name": "stdout",
          "text": [
            "briangmyazziyes.\n",
            "bdulyah.\n",
            "briyas.\n",
            "brdrner.\n",
            "sherkodrlithlyllsenleigh.\n",
            "santhannchyziohmkrrnn.\n",
            "shdumrishimnest.\n",
            "jadestly.\n",
            "prgbdulfuubdgghder.\n",
            "jaquezmashburjahsis.\n",
            "dashby.\n",
            "sadya.\n",
            "sus.\n",
            "zakquslutel.\n",
            "subristia.\n",
            "sumprrdnn.\n",
            "quloeonandphillsamreyxa.\n",
            "hunton.\n",
            "bdasirfalvinnwrllwildtalfr.\n",
            "tandysestss.\n"
          ]
        }
      ]
    }
  ]
}