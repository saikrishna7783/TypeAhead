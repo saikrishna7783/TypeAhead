{
  "nbformat": 4,
  "nbformat_minor": 0,
  "metadata": {
    "colab": {
      "provenance": [],
      "authorship_tag": "ABX9TyO3aeqX6ZBHM/9DJynQhUdR",
      "include_colab_link": true
    },
    "kernelspec": {
      "name": "python3",
      "display_name": "Python 3"
    },
    "language_info": {
      "name": "python"
    }
  },
  "cells": [
    {
      "cell_type": "markdown",
      "metadata": {
        "id": "view-in-github",
        "colab_type": "text"
      },
      "source": [
        "<a href=\"https://colab.research.google.com/github/Nithin-47/Neural_Net/blob/main/Makemore_Neural_Net.ipynb\" target=\"_parent\"><img src=\"https://colab.research.google.com/assets/colab-badge.svg\" alt=\"Open In Colab\"/></a>"
      ]
    },
    {
      "cell_type": "code",
      "execution_count": 75,
      "metadata": {
        "id": "hrvHW7Mf9Qi5"
      },
      "outputs": [],
      "source": [
        "\n",
        "words = open('/content/Change Text Case.txt','r').read().splitlines()\n"
      ]
    },
    {
      "cell_type": "code",
      "source": [
        "import torch\n",
        "import matplotlib.pyplot as plt\n",
        "%matplotlib inline"
      ],
      "metadata": {
        "id": "V-Y-1VaXC0t7"
      },
      "execution_count": null,
      "outputs": []
    },
    {
      "cell_type": "code",
      "source": [
        "N = torch.zeros((27,27), dtype=torch.int32)"
      ],
      "metadata": {
        "id": "IQPwD-_4D39u"
      },
      "execution_count": 76,
      "outputs": []
    },
    {
      "cell_type": "code",
      "source": [
        "\n",
        "chars = sorted(list(set(''.join(words))))\n",
        "stoi = {s:i+1 for i,s in enumerate(chars)}\n",
        "stoi['.'] = 0\n",
        "\n",
        "for w in words:\n",
        "  chars = ['.'] + list(w) + ['.']\n",
        "  for ch1,ch2 in zip(chars,chars[1:]):\n",
        "    it1 = stoi[ch1]\n",
        "    it2 = stoi[ch2]\n",
        "\n",
        "    N[it1,it2] += 1\n",
        "\n",
        "\n"
      ],
      "metadata": {
        "id": "1jop1VAqAOKG"
      },
      "execution_count": 77,
      "outputs": []
    },
    {
      "cell_type": "code",
      "source": [
        "\n",
        "itos = {i:s for s,i in stoi.items()}\n",
        "\n",
        "plt.figure(figsize=(16,16))\n",
        "plt.imshow(N,cmap ='Blues')\n",
        "\n",
        "for i in range(27):\n",
        "  for j in range(27):\n",
        "    chstr = itos[i] + itos[j]\n",
        "    plt.text(j,i,chstr,ha=\"center\",va=\"bottom\",color=\"gray\")\n",
        "    plt.text(j,i,N[i,j].item(),ha=\"center\",va=\"top\",color=\"gray\")\n",
        "\n",
        "plt.axis(\"off\")\n"
      ],
      "metadata": {
        "colab": {
          "base_uri": "https://localhost:8080/",
          "height": 1000
        },
        "id": "YKY-6A1IC5lT",
        "outputId": "2ddc309a-4544-43af-81da-60b492d80083"
      },
      "execution_count": 78,
      "outputs": [
        {
          "output_type": "error",
          "ename": "KeyError",
          "evalue": "23",
          "traceback": [
            "\u001b[0;31m---------------------------------------------------------------------------\u001b[0m",
            "\u001b[0;31mKeyError\u001b[0m                                  Traceback (most recent call last)",
            "\u001b[0;32m<ipython-input-78-3d918c987e52>\u001b[0m in \u001b[0;36m<cell line: 6>\u001b[0;34m()\u001b[0m\n\u001b[1;32m      6\u001b[0m \u001b[0;32mfor\u001b[0m \u001b[0mi\u001b[0m \u001b[0;32min\u001b[0m \u001b[0mrange\u001b[0m\u001b[0;34m(\u001b[0m\u001b[0;36m27\u001b[0m\u001b[0;34m)\u001b[0m\u001b[0;34m:\u001b[0m\u001b[0;34m\u001b[0m\u001b[0;34m\u001b[0m\u001b[0m\n\u001b[1;32m      7\u001b[0m   \u001b[0;32mfor\u001b[0m \u001b[0mj\u001b[0m \u001b[0;32min\u001b[0m \u001b[0mrange\u001b[0m\u001b[0;34m(\u001b[0m\u001b[0;36m27\u001b[0m\u001b[0;34m)\u001b[0m\u001b[0;34m:\u001b[0m\u001b[0;34m\u001b[0m\u001b[0;34m\u001b[0m\u001b[0m\n\u001b[0;32m----> 8\u001b[0;31m     \u001b[0mchstr\u001b[0m \u001b[0;34m=\u001b[0m \u001b[0mitos\u001b[0m\u001b[0;34m[\u001b[0m\u001b[0mi\u001b[0m\u001b[0;34m]\u001b[0m \u001b[0;34m+\u001b[0m \u001b[0mitos\u001b[0m\u001b[0;34m[\u001b[0m\u001b[0mj\u001b[0m\u001b[0;34m]\u001b[0m\u001b[0;34m\u001b[0m\u001b[0;34m\u001b[0m\u001b[0m\n\u001b[0m\u001b[1;32m      9\u001b[0m     \u001b[0mplt\u001b[0m\u001b[0;34m.\u001b[0m\u001b[0mtext\u001b[0m\u001b[0;34m(\u001b[0m\u001b[0mj\u001b[0m\u001b[0;34m,\u001b[0m\u001b[0mi\u001b[0m\u001b[0;34m,\u001b[0m\u001b[0mchstr\u001b[0m\u001b[0;34m,\u001b[0m\u001b[0mha\u001b[0m\u001b[0;34m=\u001b[0m\u001b[0;34m\"center\"\u001b[0m\u001b[0;34m,\u001b[0m\u001b[0mva\u001b[0m\u001b[0;34m=\u001b[0m\u001b[0;34m\"bottom\"\u001b[0m\u001b[0;34m,\u001b[0m\u001b[0mcolor\u001b[0m\u001b[0;34m=\u001b[0m\u001b[0;34m\"gray\"\u001b[0m\u001b[0;34m)\u001b[0m\u001b[0;34m\u001b[0m\u001b[0;34m\u001b[0m\u001b[0m\n\u001b[1;32m     10\u001b[0m     \u001b[0mplt\u001b[0m\u001b[0;34m.\u001b[0m\u001b[0mtext\u001b[0m\u001b[0;34m(\u001b[0m\u001b[0mj\u001b[0m\u001b[0;34m,\u001b[0m\u001b[0mi\u001b[0m\u001b[0;34m,\u001b[0m\u001b[0mN\u001b[0m\u001b[0;34m[\u001b[0m\u001b[0mi\u001b[0m\u001b[0;34m,\u001b[0m\u001b[0mj\u001b[0m\u001b[0;34m]\u001b[0m\u001b[0;34m.\u001b[0m\u001b[0mitem\u001b[0m\u001b[0;34m(\u001b[0m\u001b[0;34m)\u001b[0m\u001b[0;34m,\u001b[0m\u001b[0mha\u001b[0m\u001b[0;34m=\u001b[0m\u001b[0;34m\"center\"\u001b[0m\u001b[0;34m,\u001b[0m\u001b[0mva\u001b[0m\u001b[0;34m=\u001b[0m\u001b[0;34m\"top\"\u001b[0m\u001b[0;34m,\u001b[0m\u001b[0mcolor\u001b[0m\u001b[0;34m=\u001b[0m\u001b[0;34m\"gray\"\u001b[0m\u001b[0;34m)\u001b[0m\u001b[0;34m\u001b[0m\u001b[0;34m\u001b[0m\u001b[0m\n",
            "\u001b[0;31mKeyError\u001b[0m: 23"
          ]
        },
        {
          "output_type": "display_data",
          "data": {
            "text/plain": [
              "<Figure size 1600x1600 with 1 Axes>"
            ],
            "image/png": "[encoded data removed]"
          },
          "metadata": {}
        }
      ]
    },
    {
      "cell_type": "code",
      "source": [
        "P = (N+1).float()\n",
        "P/=P.sum(1,keepdim=True)\n"
      ],
      "metadata": {
        "id": "ONLM3IVodp1d"
      },
      "execution_count": null,
      "outputs": []
    },
    {
      "cell_type": "code",
      "source": [
        "# p = N[0,:].float()\n",
        "# p = p/p.sum()\n",
        "\n",
        "g = torch.Generator().manual_seed(2147483647)\n",
        "\n",
        "\n",
        "\n",
        "for i in range(20):\n",
        "  idx = 0\n",
        "  out = []\n",
        "\n",
        "\n",
        "  while True:\n",
        "    p = P[idx]\n",
        "    # p = p/p.sum()\n",
        "    idx = torch.multinomial(p,num_samples=1,replacement=True,generator=g).item()\n",
        "    out.append(itos[idx])\n",
        "    # print(itos[idx])\n",
        "    if idx == 0:\n",
        "      break\n",
        "\n",
        "  print(''.join(out))"
      ],
      "metadata": {
        "colab": {
          "base_uri": "https://localhost:8080/"
        },
        "id": "oYmql6EzU-PV",
        "outputId": "6ed78e05-7a8a-4e93-eb5b-53442acf19f3"
      },
      "execution_count": null,
      "outputs": [
        {
          "output_type": "stream",
          "name": "stdout",
          "text": [
            "junide.\n",
            "janasah.\n",
            "p.\n",
            "cony.\n",
            "a.\n",
            "nn.\n",
            "kohin.\n",
            "tolian.\n",
            "juee.\n",
            "ksahnaauranilevias.\n",
            "dedainrwieta.\n",
            "ssonielylarte.\n",
            "faveumerifontume.\n",
            "phynslenaruani.\n",
            "core.\n",
            "yaenon.\n",
            "ka.\n",
            "jabdinerimikimaynin.\n",
            "anaasn.\n",
            "ssorionsush.\n"
          ]
        }
      ]
    },
    {
      "cell_type": "code",
      "source": [
        "# Loss Function\n",
        "\n",
        "log_likelihood = 0.0\n",
        "n = 0\n",
        "for w in words:\n",
        "  chars = ['.'] + list(w) + ['.']\n",
        "  for ch1,ch2 in zip(chars,chars[1:]):\n",
        "    it1 = stoi[ch1]\n",
        "    it2 = stoi[ch2]\n",
        "\n",
        "    logprob = torch.log(P[it1,it2])\n",
        "    log_likelihood += logprob\n",
        "    n += 1\n",
        "\n",
        "\n",
        "print(log_likelihood)\n",
        "nll = -log_likelihood\n",
        "print(nll/n)"
      ],
      "metadata": {
        "colab": {
          "base_uri": "https://localhost:8080/"
        },
        "id": "OYlsD45Qs3mr",
        "outputId": "af32ef7f-2acc-4407-f906-ffb1942ec76e"
      },
      "execution_count": null,
      "outputs": [
        {
          "output_type": "stream",
          "name": "stdout",
          "text": [
            "tensor(-559951.5625)\n",
            "tensor(2.4544)\n"
          ]
        }
      ]
    },
    {
      "cell_type": "code",
      "source": [
        "# Defining the Training set of Bigrams\n",
        "\n",
        "xs, ys = [], []\n",
        "\n",
        "for w in words:\n",
        "  chars = ['.'] + list(w) + ['.']\n",
        "  for ch1,ch2 in zip(chars,chars[1:]):\n",
        "    it1 = stoi[ch1]\n",
        "    it2 = stoi[ch2]\n",
        "\n",
        "    xs.append(it1)\n",
        "    ys.append(it2)\n",
        "\n",
        "xs = torch.tensor(xs)\n",
        "ys = torch.tensor(ys)\n",
        "num = xs.nelement()"
      ],
      "metadata": {
        "id": "IIyLq8lMOLg-"
      },
      "execution_count": null,
      "outputs": []
    },
    {
      "cell_type": "code",
      "source": [
        "g = torch.Generator().manual_seed(2147483647)\n",
        "W = torch.randn(27,27,generator=g,requires_grad = True)\n",
        "import torch.nn.functional as F\n"
      ],
      "metadata": {
        "id": "nw_9fcTZXNHA"
      },
      "execution_count": null,
      "outputs": []
    },
    {
      "cell_type": "code",
      "source": [
        "# Gradient Descent\n",
        "\n",
        "for k in range(100):\n",
        "\n",
        "  # Forward Pass\n",
        "\n",
        "  xenc = F.one_hot(xs, num_classes = 27).float()\n",
        "  logits = (xenc @ W)\n",
        "  counts = logits.exp()\n",
        "  probs = counts/counts.sum(1,keepdims=True)\n",
        "  loss = -probs[torch.arange(num),ys].log().mean()\n",
        "  print(loss.item())\n",
        "\n",
        "  # Backward Pass\n",
        "\n",
        "  W.grad = None # Set Gradient to zero\n",
        "  loss.backward()\n",
        "\n",
        "  # Updating Gradients\n",
        "\n",
        "  W.data += -50 * W.grad"
      ],
      "metadata": {
        "colab": {
          "base_uri": "https://localhost:8080/"
        },
        "id": "8UtQkkXyQ6EE",
        "outputId": "158245e7-48b4-4473-fdfe-fc9524b97ae5"
      },
      "execution_count": null,
      "outputs": [
        {
          "output_type": "stream",
          "name": "stdout",
          "text": [
            "2.456974744796753\n",
            "2.456967830657959\n",
            "2.456961154937744\n",
            "2.4569547176361084\n",
            "2.4569482803344727\n",
            "2.456941604614258\n",
            "2.456934928894043\n",
            "2.4569287300109863\n",
            "2.4569220542907715\n",
            "2.456915855407715\n",
            "2.4569091796875\n",
            "2.4569029808044434\n",
            "2.4568965435028076\n",
            "2.456890106201172\n",
            "2.4568839073181152\n",
            "2.4568774700164795\n",
            "2.4568710327148438\n",
            "2.456865072250366\n",
            "2.4568588733673096\n",
            "2.4568521976470947\n",
            "2.4568464756011963\n",
            "2.4568400382995605\n",
            "2.456834077835083\n",
            "2.4568281173706055\n",
            "2.4568216800689697\n",
            "2.456815719604492\n",
            "2.4568097591400146\n",
            "2.456803798675537\n",
            "2.4567978382110596\n",
            "2.456791877746582\n",
            "2.4567859172821045\n",
            "2.456780195236206\n",
            "2.4567742347717285\n",
            "2.456768274307251\n",
            "2.4567625522613525\n",
            "2.456756591796875\n",
            "2.4567511081695557\n",
            "2.4567453861236572\n",
            "2.4567394256591797\n",
            "2.4567339420318604\n",
            "2.456727981567383\n",
            "2.4567222595214844\n",
            "2.456716775894165\n",
            "2.4567110538482666\n",
            "2.4567055702209473\n",
            "2.456699848175049\n",
            "2.4566943645477295\n",
            "2.45668888092041\n",
            "2.456683397293091\n",
            "2.4566779136657715\n",
            "2.456672191619873\n",
            "2.4566667079925537\n",
            "2.4566614627838135\n",
            "2.456655979156494\n",
            "2.456650495529175\n",
            "2.4566452503204346\n",
            "2.4566397666931152\n",
            "2.456634759902954\n",
            "2.4566292762756348\n",
            "2.4566240310668945\n",
            "2.456618547439575\n",
            "2.456613540649414\n",
            "2.456608295440674\n",
            "2.4566032886505127\n",
            "2.4565980434417725\n",
            "2.4565927982330322\n",
            "2.456587553024292\n",
            "2.4565820693969727\n",
            "2.4565775394439697\n",
            "2.4565722942352295\n",
            "2.4565672874450684\n",
            "2.456562042236328\n",
            "2.456557035446167\n",
            "2.456552028656006\n",
            "2.4565470218658447\n",
            "2.4565420150756836\n",
            "2.4565372467041016\n",
            "2.4565320014953613\n",
            "2.4565272331237793\n",
            "2.4565224647521973\n",
            "2.4565176963806152\n",
            "2.456512451171875\n",
            "2.456507682800293\n",
            "2.456502914428711\n",
            "2.45649790763855\n",
            "2.456493616104126\n",
            "2.456488609313965\n",
            "2.456483840942383\n",
            "2.456479072570801\n",
            "2.4564743041992188\n",
            "2.4564692974090576\n",
            "2.4564647674560547\n",
            "2.4564602375030518\n",
            "2.4564554691314697\n",
            "2.456450939178467\n",
            "2.4564461708068848\n",
            "2.456441640853882\n",
            "2.4564368724823\n",
            "2.456432342529297\n",
            "2.456427812576294\n"
          ]
        }
      ]
    },
    {
      "cell_type": "code",
      "source": [
        "# Sampling some of the made up words\n",
        "\n",
        "for i in range(10):\n",
        "\n",
        "  out = []\n",
        "  idx = 0\n",
        "  while True:\n",
        "    xenc = F.one_hot(torch.tensor([idx]),num_classes = 27).float()\n",
        "    logits = xenc @ W\n",
        "    counts = logits.exp()\n",
        "    p = counts/counts.sum(1,keepdims = True)\n",
        "\n",
        "    idx = torch.multinomial(p,num_samples=1,replacement=True,generator=g).item()\n",
        "    out.append(itos[idx])\n",
        "    if idx == 0:\n",
        "      break\n",
        "\n",
        "  print(''.join(out))\n"
      ],
      "metadata": {
        "colab": {
          "base_uri": "https://localhost:8080/"
        },
        "id": "aoL1UK2Wlhjc",
        "outputId": "3deb701a-5dfd-45f2-ccd8-ec6d03fc0408"
      },
      "execution_count": null,
      "outputs": [
        {
          "output_type": "stream",
          "name": "stdout",
          "text": [
            "that.\n",
            "janosli.\n",
            "isa.\n",
            "dyn.\n",
            "rijelumemahaunayaleva.\n",
            "cararr.\n",
            "jen.\n",
            "janarta.\n",
            "maly.\n",
            "abely.\n"
          ]
        }
      ]
    }
  ]
}